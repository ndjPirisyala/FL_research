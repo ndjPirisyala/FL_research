{
 "cells": [
  {
   "cell_type": "code",
   "execution_count": 1,
   "metadata": {},
   "outputs": [],
   "source": [
    "import math\n",
    "import random \n",
    "import collections\n",
    "import numpy as np\n",
    "\n",
    "import nest_asyncio\n",
    "import tensorflow as tf\n",
    "import tensorflow_federated as tff\n",
    "import seaborn as sns\n",
    "\n",
    "from tensorflow.keras import activations\n",
    "from statistics import mean\n",
    "from collections import Counter\n",
    "\n",
    "from tqdm.notebook import tqdm as tqdm_notebook\n",
    "\n",
    "from math import sqrt\n",
    "\n",
    "sns.set_theme(style= 'whitegrid')\n",
    "nest_asyncio.apply()\n",
    "tff.backends.reference.set_reference_context()"
   ]
  },
  {
   "cell_type": "code",
   "execution_count": 2,
   "metadata": {},
   "outputs": [
    {
     "data": {
      "image/png": "[encoded data removed]",
      "text/plain": [
       "<Figure size 720x576 with 1 Axes>"
      ]
     },
     "metadata": {},
     "output_type": "display_data"
    }
   ],
   "source": [
    "import matplotlib.colors\n",
    "import matplotlib.pyplot as plt\n",
    "from mpl_toolkits.mplot3d import Axes3D\n",
    "from pylab import *\n",
    "\n",
    "import sklearn.datasets as dt\n",
    "\n",
    "from sklearn.neighbors import KernelDensity\n",
    "from sklearn.model_selection import GridSearchCV\n",
    "\n",
    "color_map_discrete = matplotlib.colors.LinearSegmentedColormap.from_list(\"\", [\"red\",\"blue\",\"green\"])\n",
    "\n",
    "x,y = dt.make_classification(n_samples=12,\n",
    "                                 n_features=2,\n",
    "                                 n_repeated=0,\n",
    "                                 class_sep=2, \n",
    "                                 n_redundant=0,\n",
    "                                 n_classes=2,\n",
    "                                 n_clusters_per_class=1,\n",
    "                                 random_state=2000)\n",
    "\n",
    "fig = plt.figure(figsize=(10,8))\n",
    "my_scatter_plot = plt.scatter(x[:,0],\n",
    "                                  x[:,1],\n",
    "                                  c=y,\n",
    "                                  vmin=min(y),\n",
    "                                  vmax=max(y),\n",
    "                                  s=20,\n",
    "                                  cmap=color_map_discrete)\n",
    "\n",
    "plt.show()"
   ]
  },
  {
   "cell_type": "code",
   "execution_count": 3,
   "metadata": {},
   "outputs": [
    {
     "data": {
      "text/plain": [
       "array([[ 1.02951538, -2.1449001 ],\n",
       "       [ 3.10369868, -2.18252668],\n",
       "       [ 2.95819015, -1.86307868],\n",
       "       [ 2.14496024, -2.3288833 ],\n",
       "       [ 2.35698684,  1.5100011 ],\n",
       "       [ 1.73694128,  2.4674547 ],\n",
       "       [ 2.0901487 ,  1.84159804],\n",
       "       [ 2.45037035,  1.31323142],\n",
       "       [ 2.07713437,  1.98207772],\n",
       "       [ 1.73150175, -1.820727  ],\n",
       "       [ 1.24960217, -2.05259851],\n",
       "       [ 1.82765654,  2.29389615]])"
      ]
     },
     "execution_count": 3,
     "metadata": {},
     "output_type": "execute_result"
    }
   ],
   "source": [
    "x"
   ]
  },
  {
   "cell_type": "code",
   "execution_count": 4,
   "metadata": {},
   "outputs": [
    {
     "data": {
      "text/plain": [
       "array([ 1.02951538, -2.1449001 ])"
      ]
     },
     "execution_count": 4,
     "metadata": {},
     "output_type": "execute_result"
    }
   ],
   "source": [
    "x[0]"
   ]
  },
  {
   "cell_type": "code",
   "execution_count": 5,
   "metadata": {},
   "outputs": [
    {
     "data": {
      "text/plain": [
       "array([0, 0, 0, 0, 1, 1, 1, 1, 1, 0, 0, 1])"
      ]
     },
     "execution_count": 5,
     "metadata": {},
     "output_type": "execute_result"
    }
   ],
   "source": [
    "y"
   ]
  },
  {
   "cell_type": "code",
   "execution_count": 6,
   "metadata": {},
   "outputs": [
    {
     "data": {
      "text/plain": [
       "array([1.02951538, 3.10369868, 2.95819015, 2.14496024, 2.35698684,\n",
       "       1.73694128, 2.0901487 , 2.45037035, 2.07713437, 1.73150175,\n",
       "       1.24960217, 1.82765654])"
      ]
     },
     "execution_count": 6,
     "metadata": {},
     "output_type": "execute_result"
    }
   ],
   "source": [
    "x[:,0]"
   ]
  },
  {
   "cell_type": "code",
   "execution_count": 7,
   "metadata": {},
   "outputs": [],
   "source": [
    "class0=[]\n",
    "class1=[]\n",
    "\n",
    "for i in range(len(y)):\n",
    "    if(y[i] == 0):\n",
    "        class0.append(x[i])\n",
    "    else:\n",
    "        class1.append(x[i])"
   ]
  },
  {
   "cell_type": "code",
   "execution_count": 8,
   "metadata": {},
   "outputs": [],
   "source": [
    "client1 = class0[:3] + class1[:3]\n",
    "clien1_labels = [0,0,0,1,1,1]\n",
    "client1=np.array(client1)\n",
    "\n",
    "client2 = class0[3:] + class1[3:]\n",
    "clien2_labels = [0,0,0,1,1,1]\n",
    "client2=np.array(client2)"
   ]
  },
  {
   "cell_type": "code",
   "execution_count": 9,
   "metadata": {},
   "outputs": [
    {
     "data": {
      "text/plain": [
       "array([[ 1.02951538, -2.1449001 ],\n",
       "       [ 3.10369868, -2.18252668],\n",
       "       [ 2.95819015, -1.86307868],\n",
       "       [ 2.35698684,  1.5100011 ],\n",
       "       [ 1.73694128,  2.4674547 ],\n",
       "       [ 2.0901487 ,  1.84159804]])"
      ]
     },
     "execution_count": 9,
     "metadata": {},
     "output_type": "execute_result"
    }
   ],
   "source": [
    "client1"
   ]
  },
  {
   "cell_type": "code",
   "execution_count": 10,
   "metadata": {},
   "outputs": [
    {
     "data": {
      "image/png": "[encoded data removed]",
      "text/plain": [
       "<Figure size 720x576 with 1 Axes>"
      ]
     },
     "metadata": {},
     "output_type": "display_data"
    }
   ],
   "source": [
    "fig, ax = plt.subplots(figsize=(10,8))\n",
    "xmin, xmax, ymin, ymax = 0.5, 2.6, -3.5, 3\n",
    "\n",
    "colors=['r','r','r','g','g','g']\n",
    "ax.scatter(client1[:,0], client1[:,1], c=colors, marker='o', s=30)\n",
    "ax.scatter(client2[:,0], client2[:,1], c=colors, marker='*', s=30)\n",
    "\n",
    "plt.show()"
   ]
  },
  {
   "cell_type": "code",
   "execution_count": 11,
   "metadata": {},
   "outputs": [],
   "source": [
    "def CalMLE(m,b,p,q):\n",
    "    return pow(q-(m*p+b),2)"
   ]
  },
  {
   "cell_type": "code",
   "execution_count": 12,
   "metadata": {},
   "outputs": [],
   "source": [
    "import math\n",
    "def MLE(m,b,X,Y):\n",
    "    return math.sqrt(sum(list(map(lambda x:CalMLE(m,b,x[0],x[1]),zip(X,Y)))))"
   ]
  },
  {
   "cell_type": "code",
   "execution_count": 13,
   "metadata": {},
   "outputs": [],
   "source": [
    "# y=1x+2\n",
    "m1 = 1.3\n",
    "b1 = 1\n",
    "CL1 = lambda x:m1*x+b1\n",
    "# y= -x\n",
    "m2=1\n",
    "b2=-2\n",
    "CL2 = lambda x:m2*x+b2"
   ]
  },
  {
   "cell_type": "code",
   "execution_count": 14,
   "metadata": {},
   "outputs": [
    {
     "data": {
      "text/plain": [
       "11.307644680290108"
      ]
     },
     "execution_count": 14,
     "metadata": {},
     "output_type": "execute_result"
    }
   ],
   "source": [
    "#error\n",
    "MLE(m1,b1,client1[:,0],client1[:,1])"
   ]
  },
  {
   "cell_type": "code",
   "execution_count": 15,
   "metadata": {},
   "outputs": [
    {
     "data": {
      "text/plain": [
       "4.547605825300762"
      ]
     },
     "execution_count": 15,
     "metadata": {},
     "output_type": "execute_result"
    }
   ],
   "source": [
    "#error\n",
    "MLE(m2,b2,client2[:,0],client2[:,1])"
   ]
  },
  {
   "cell_type": "code",
   "execution_count": 37,
   "metadata": {},
   "outputs": [
    {
     "data": {
      "image/png": "[encoded data removed]",
      "text/plain": [
       "<Figure size 720x576 with 1 Axes>"
      ]
     },
     "metadata": {},
     "output_type": "display_data"
    }
   ],
   "source": [
    "fig, ax = plt.subplots(figsize=(10,8))\n",
    "xmin, xmax, ymin, ymax = 0.5, 2.6, -3.5, 3\n",
    "\n",
    "colors=['r','r','r','g','g','g']\n",
    "\n",
    "ax.scatter(client1[:,0], client1[:,1], c=colors, marker='o', s=30)\n",
    "ax.plot(list(range(0,4)),list(map(CL1,range(0,4))))\n",
    "\n",
    "ax.scatter(client2[:,0], client2[:,1], c=colors, marker='*', s=30)\n",
    "ax.plot(list(range(0,4)),list(map(CL2,range(0,4))))\n",
    "\n",
    "# ax.plot(list(range(0,4)),list(map(lambda x:-.5*x+3.4,range(0,4))))\n",
    "\n",
    "plt.show()"
   ]
  },
  {
   "cell_type": "code",
   "execution_count": 56,
   "metadata": {},
   "outputs": [],
   "source": [
    "X=np.arange(0,4)\n",
    "\n",
    "def adjust(X_, Y_, LABELS, learning_rate=0.3, slope=1):\n",
    "    line = None\n",
    "    counter = 0\n",
    "    slpoes=[]\n",
    "    for x, y, label in zip(X_,Y_,LABELS):\n",
    "#         print(x)\n",
    "#         print(y)\n",
    "#         print(label)\n",
    "        res = slope * x - y\n",
    "#         print(label, res)\n",
    "        if label == 0 and res < 0:\n",
    "            # point is above line but should be below \n",
    "            # => increment slope\n",
    "            slope += learning_rate\n",
    "            slpoes.append(slope)\n",
    "            counter += 1\n",
    "            ax.plot(X, slope * X, \n",
    "                    linewidth=2, label=str(counter))\n",
    "\n",
    "        elif label == 1 and res > 0:\n",
    "            # point is below line but should be above \n",
    "            # => decrement slope\n",
    "            #print(res, label)\n",
    "            slope -= learning_rate\n",
    "            slpoes.append(slope)\n",
    "            counter += 1\n",
    "            ax.plot(X, slope * X,  \n",
    "                    linewidth=2, label=str(counter))\n",
    "    return slpoes\n"
   ]
  },
  {
   "cell_type": "code",
   "execution_count": 43,
   "metadata": {},
   "outputs": [
    {
     "data": {
      "image/png": "[encoded data removed]",
      "text/plain": [
       "<Figure size 720x576 with 1 Axes>"
      ]
     },
     "metadata": {},
     "output_type": "display_data"
    }
   ],
   "source": [
    "m_global = adjust(x[:,0], x[:,1], y)\n",
    "\n",
    "fig, ax = plt.subplots(figsize=(10,8))\n",
    "xmin, xmax, ymin, ymax = 0.5, 2.6, -3.5, 3\n",
    "\n",
    "colors=['r','r','r','g','g','g']\n",
    "\n",
    "ax.scatter(client1[:,0], client1[:,1], c=colors, marker='o', s=30)\n",
    "\n",
    "ax.scatter(client2[:,0], client2[:,1], c=colors, marker='*', s=30)\n",
    "\n",
    "ax.plot(X, m_global * X, linewidth=2)\n",
    "\n",
    "plt.show()"
   ]
  },
  {
   "cell_type": "code",
   "execution_count": 50,
   "metadata": {},
   "outputs": [
    {
     "data": {
      "image/png": "[encoded data removed]",
      "text/plain": [
       "<Figure size 720x576 with 1 Axes>"
      ]
     },
     "metadata": {},
     "output_type": "display_data"
    }
   ],
   "source": [
    "m1 = adjust(client1[:,0], client1[:,1], clien1_labels)\n",
    "m2 = adjust(client2[:,0], client2[:,1], clien2_labels)\n",
    "\n",
    "fig, ax = plt.subplots(figsize=(10,8))\n",
    "xmin, xmax, ymin, ymax = 0.5, 2.6, -3.5, 3\n",
    "\n",
    "colors=['r','r','r','g','g','g']\n",
    "\n",
    "ax.scatter(client1[:,0], client1[:,1], c=colors, marker='o', s=30)\n",
    "\n",
    "ax.scatter(client2[:,0], client2[:,1], c=colors, marker='*', s=30)\n",
    "\n",
    "ax.plot(X, m_global * X, linewidth=2, label='global')\n",
    "ax.plot(X, m1 * X, linewidth=2, label='client1')\n",
    "ax.plot(X, m2 * X, linewidth=2, label='client2')\n",
    "\n",
    "plt.show()"
   ]
  },
  {
   "cell_type": "code",
   "execution_count": 57,
   "metadata": {},
   "outputs": [
    {
     "data": {
      "image/png": "[encoded data removed]",
      "text/plain": [
       "<Figure size 720x576 with 1 Axes>"
      ]
     },
     "metadata": {},
     "output_type": "display_data"
    }
   ],
   "source": [
    "ssss = adjust(client1[:,0], client1[:,1], clien1_labels)\n",
    "\n",
    "fig, ax = plt.subplots(figsize=(10,8))\n",
    "xmin, xmax, ymin, ymax = 0.5, 2.6, -3.5, 3\n",
    "\n",
    "colors=['r','r','r','g','g','g']\n",
    "\n",
    "ax.scatter(client1[:,0], client1[:,1], c=colors, marker='o', s=30)\n",
    "\n",
    "ax.scatter(client2[:,0], client2[:,1], c=colors, marker='*', s=30)\n",
    "\n",
    "for i in range(len(ssss)):\n",
    "    ax.plot(X, ssss[i] * X, linewidth=2, label=str(i))\n",
    "    \n",
    "plt.show()\n",
    "    "
   ]
  },
  {
   "cell_type": "code",
   "execution_count": 58,
   "metadata": {},
   "outputs": [
    {
     "data": {
      "text/plain": [
       "1"
      ]
     },
     "execution_count": 58,
     "metadata": {},
     "output_type": "execute_result"
    }
   ],
   "source": [
    "len(ssss)"
   ]
  }
 ],
 "metadata": {
  "kernelspec": {
   "display_name": "Python 3",
   "language": "python",
   "name": "python3"
  },
  "language_info": {
   "codemirror_mode": {
    "name": "ipython",
    "version": 3
   },
   "file_extension": ".py",
   "mimetype": "text/x-python",
   "name": "python",
   "nbconvert_exporter": "python",
   "pygments_lexer": "ipython3",
   "version": "3.8.5"
  }
 },
 "nbformat": 4,
 "nbformat_minor": 4
}
