{
 "cells": [
  {
   "cell_type": "code",
   "execution_count": 1,
   "metadata": {},
   "outputs": [],
   "source": [
    "import nest_asyncio\n",
    "nest_asyncio.apply()"
   ]
  },
  {
   "cell_type": "code",
   "execution_count": 2,
   "metadata": {},
   "outputs": [],
   "source": [
    "import collections\n",
    "import pickle\n",
    "\n",
    "import copy \n",
    "import numpy as np\n",
    "import tensorflow as tf\n",
    "import tensorflow_federated as tff\n",
    "from sklearn.utils import shuffle\n",
    "from sklearn.model_selection import train_test_split\n",
    "\n",
    "tff.backends.reference.set_reference_context()"
   ]
  },
  {
   "cell_type": "code",
   "execution_count": 3,
   "metadata": {},
   "outputs": [],
   "source": [
    "from tensorflow.keras import layers\n",
    "from tensorflow.keras import activations\n",
    "from tensorflow.keras import models\n",
    "\n",
    "import math\n",
    "import pickle\n",
    "from matplotlib import pyplot as plt\n",
    "import pandas as pd\n",
    "import seaborn as sns\n",
    "from operator import add\n",
    "\n",
    "import seaborn as sns\n",
    "sns.set_style(\"whitegrid\")"
   ]
  },
  {
   "cell_type": "code",
   "execution_count": 4,
   "metadata": {},
   "outputs": [],
   "source": [
    "GOD = pickle.load(open('GOD.pkl','rb'))\n",
    "D = pickle.load(open('COUNT','rb'))"
   ]
  },
  {
   "cell_type": "code",
   "execution_count": 5,
   "metadata": {},
   "outputs": [
    {
     "data": {
      "application/vnd.jupyter.widget-view+json": {
       "model_id": "2b8d0c805fd14a3fab436456939efb07",
       "version_major": 2,
       "version_minor": 0
      },
      "text/plain": [
       "HBox(children=(HTML(value=''), FloatProgress(value=0.0, max=1.0), HTML(value='')))"
      ]
     },
     "metadata": {},
     "output_type": "display_data"
    },
    {
     "name": "stdout",
     "output_type": "stream",
     "text": [
      "\n"
     ]
    }
   ],
   "source": [
    "from tqdm.notebook import tqdm\n",
    "HISTORY =[]\n",
    "for rounds in tqdm(range(1)):\n",
    "    \n",
    "    def getModel():\n",
    "        model = tf.keras.models.Sequential([\n",
    "            tf.keras.layers.Dense(16, activation='relu'),\n",
    "            tf.keras.layers.Dense(10,activation=\"sigmoid\")\n",
    "        ])\n",
    "        model.compile(optimizer='adam',\n",
    "                  loss=tf.keras.losses.SparseCategoricalCrossentropy(from_logits=True),\n",
    "                  metrics=['accuracy'])\n",
    "        return model\n",
    "    \n",
    "    import numpy as np\n",
    "    from collections import Counter\n",
    "    \n",
    "\n",
    "    def getweight(df):\n",
    "        LBL = Counter(df.digit)\n",
    "        maen_arr = np.mean(list(map(lambda x:x[1]/D[x[0]],list(LBL.items()))))\n",
    "        return maen_arr\n",
    "    \n",
    "    def train_on_clients():\n",
    "        for writer in range(1,31):\n",
    "            df = FROUND.get(writer)\n",
    "#             cw.append(getweight(df))\n",
    "            labels = df['digit'].to_numpy()\n",
    "            df_copy = df.drop(['digit','writer'], axis=1)\n",
    "            model = getModel()\n",
    "            HIS = model.fit(df_copy.to_numpy(), labels, epochs=10,verbose=0)\n",
    "            cw.append(HIS.history['accuracy'][-1])\n",
    "            writer_models.append(model)\n",
    "    \n",
    "    def average(rounds, weights):\n",
    "    \n",
    "        agg_model = rounds[0]\n",
    "        l1,b1,l2,b2 = agg_model.get_weights()\n",
    "        w1 = weights[0]\n",
    "\n",
    "        l1*=w1\n",
    "        b1*=w1\n",
    "        l2*=w1\n",
    "        b2*=w1\n",
    "\n",
    "#         weights = np.cbrt(weights)\n",
    "\n",
    "        CONST = sum(weights)\n",
    "\n",
    "        for i,w in zip(rounds[1:],weights[1:]):\n",
    "            tl1,tb1,tl2,tb2 = i.get_weights()\n",
    "            l1+=(tl1*w)\n",
    "            b1+=(tb1*w)        \n",
    "            l2+=(tl2*w)        \n",
    "            b2+=(tb2*w)\n",
    "\n",
    "        agg_model.set_weights([l1/CONST,b1/CONST,l2/CONST,b2/CONST])\n",
    "        return agg_model\n",
    "    \n",
    "    FROUND = GOD[rounds].get('fs')\n",
    "    OROUND = GOD[rounds].get('snd')\n",
    "    \n",
    "    writer_models = []\n",
    "    cw = []\n",
    "\n",
    "    \n",
    "    train_on_clients()\n",
    "    \n",
    "    DF_TEST = pd.read_csv('TEST.csv').iloc[:,1:]\n",
    "    labels_tes = DF_TEST['digit'].to_numpy()\n",
    "    df_tes = DF_TEST.drop(['digit'], axis=1)\n",
    "    \n",
    "    GLOBAL = []\n",
    "    history = []\n",
    "    \n",
    "    agg_model = average(writer_models,cw)\n",
    "        \n",
    "    history.append(agg_model.evaluate(df_tes.to_numpy(), labels_tes,verbose=0))\n",
    "    \n",
    "    for i in range(10):\n",
    "        rounds = []\n",
    "        cw_local = []\n",
    "        for writer in range(1,31):\n",
    "            df = OROUND[i].get(writer)\n",
    "#             cw_local.append(getweight(df))\n",
    "            labels = df['digit'].to_numpy()\n",
    "            df_copy = df.drop(['digit','writer'], axis=1)\n",
    "            model = agg_model\n",
    "            HIS = model.fit(df_copy.to_numpy(), labels, epochs=10,verbose=0)\n",
    "#             print(HIS.history['accuracy'][-1])\n",
    "            cw_local.append(HIS.history['accuracy'][-1])\n",
    "            rounds.append(model)\n",
    "        agg_model = average(rounds,cw_local)\n",
    "        GLOBAL.append({\n",
    "            'round {}'.format(i):agg_model\n",
    "        })\n",
    "#         print('----------Global Model-----------')\n",
    "        his = agg_model.evaluate(df_tes.to_numpy(), labels_tes, verbose=0)\n",
    "        history.append(his)\n",
    "    HISTORY.append(history)\n",
    "pickle.dump(HISTORY,open('agg5','wb'))"
   ]
  },
  {
   "cell_type": "code",
   "execution_count": null,
   "metadata": {},
   "outputs": [],
   "source": []
  }
 ],
 "metadata": {
  "kernelspec": {
   "display_name": "Python 3",
   "language": "python",
   "name": "python3"
  },
  "language_info": {
   "codemirror_mode": {
    "name": "ipython",
    "version": 3
   },
   "file_extension": ".py",
   "mimetype": "text/x-python",
   "name": "python",
   "nbconvert_exporter": "python",
   "pygments_lexer": "ipython3",
   "version": "3.8.5"
  }
 },
 "nbformat": 4,
 "nbformat_minor": 4
}
