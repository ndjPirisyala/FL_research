{
 "cells": [
  {
   "cell_type": "markdown",
   "metadata": {},
   "source": [
    "### Normal DeepLearning"
   ]
  },
  {
   "cell_type": "code",
   "execution_count": null,
   "metadata": {
    "scrolled": false
   },
   "outputs": [],
   "source": [
    "import pandas as pd\n",
    "import os\n",
    "# os.system('rm -rf Local*')\n",
    "# os.system('rm -rf TEST*')"
   ]
  },
  {
   "cell_type": "code",
   "execution_count": null,
   "metadata": {
    "scrolled": false
   },
   "outputs": [],
   "source": [
    "train = pd.read_csv('tra.csv')\n",
    "test  = pd.read_csv('TEST.csv')\n",
    "\n",
    "train.drop(train.filter(regex=\"Unname\"),axis=1, inplace=True)\n",
    "test.drop(test.filter(regex=\"Unname\"),axis=1, inplace=True)"
   ]
  },
  {
   "cell_type": "code",
   "execution_count": null,
   "metadata": {
    "scrolled": false
   },
   "outputs": [],
   "source": [
    "train.head()"
   ]
  },
  {
   "cell_type": "code",
   "execution_count": null,
   "metadata": {
    "scrolled": false
   },
   "outputs": [],
   "source": [
    "test.head()"
   ]
  },
  {
   "cell_type": "code",
   "execution_count": null,
   "metadata": {
    "scrolled": false
   },
   "outputs": [],
   "source": [
    "train.iloc[:,:-1].describe()"
   ]
  },
  {
   "cell_type": "code",
   "execution_count": null,
   "metadata": {
    "scrolled": false
   },
   "outputs": [],
   "source": [
    "import seaborn as sns\n",
    "sns.set_theme(style= 'whitegrid')"
   ]
  },
  {
   "cell_type": "code",
   "execution_count": null,
   "metadata": {
    "scrolled": false
   },
   "outputs": [],
   "source": [
    "from  matplotlib import pyplot as plt\n",
    "\n",
    "train.hist(figsize = (17.5,12))\n",
    "\n",
    "plt.show()"
   ]
  },
  {
   "cell_type": "code",
   "execution_count": null,
   "metadata": {
    "scrolled": false
   },
   "outputs": [],
   "source": [
    "test.iloc[:,:-1].describe()"
   ]
  },
  {
   "cell_type": "code",
   "execution_count": null,
   "metadata": {
    "scrolled": false
   },
   "outputs": [],
   "source": [
    "from  matplotlib import pyplot as plt\n",
    "\n",
    "test.hist(figsize = (17.5,12))\n",
    "\n",
    "plt.show()"
   ]
  },
  {
   "cell_type": "code",
   "execution_count": null,
   "metadata": {
    "scrolled": false
   },
   "outputs": [],
   "source": [
    "plt.figure(figsize=(15,15))\n",
    "sns.heatmap(train.iloc[:,:-2].corr(), annot = True ,linewidths=.05)\n",
    "plt.show()"
   ]
  },
  {
   "cell_type": "code",
   "execution_count": null,
   "metadata": {
    "scrolled": false
   },
   "outputs": [],
   "source": [
    "plt.figure(figsize=(15,15))\n",
    "sns.heatmap(test.iloc[:,:-1].corr(), annot = True ,linewidths=.05)\n",
    "plt.show()"
   ]
  },
  {
   "cell_type": "code",
   "execution_count": null,
   "metadata": {
    "scrolled": false
   },
   "outputs": [],
   "source": [
    "import tensorflow as tf\n",
    "\n",
    "model = tf.keras.models.Sequential([\n",
    "        tf.keras.layers.Dense(16, activation='relu'),\n",
    "        tf.keras.layers.Dense(32, activation='relu'),\n",
    "        tf.keras.layers.Dense(10,activation=\"sigmoid\")\n",
    "    ])\n",
    "\n",
    "model.compile(optimizer='SGD',loss=tf.keras.losses.SparseCategoricalCrossentropy(from_logits=True),metrics=['accuracy'])"
   ]
  },
  {
   "cell_type": "code",
   "execution_count": null,
   "metadata": {
    "scrolled": false
   },
   "outputs": [],
   "source": [
    "model.fit(train.iloc[:,:-2], train.digit, epochs=25, batch_size = 32)"
   ]
  },
  {
   "cell_type": "code",
   "execution_count": null,
   "metadata": {
    "scrolled": false
   },
   "outputs": [],
   "source": [
    "import numpy as np\n",
    "import warnings\n",
    "warnings.filterwarnings(\"ignore\")\n",
    "\n",
    "\n",
    "y_predict = model.predict_classes(test.iloc[:,:-1])\n",
    "Y_predict = np.array(test.digit)"
   ]
  },
  {
   "cell_type": "code",
   "execution_count": null,
   "metadata": {
    "scrolled": false
   },
   "outputs": [],
   "source": [
    "from sklearn.metrics import classification_report\n",
    "\n",
    "print(classification_report(Y_predict, y_predict))"
   ]
  },
  {
   "cell_type": "code",
   "execution_count": null,
   "metadata": {
    "scrolled": false
   },
   "outputs": [],
   "source": [
    "import scikitplot as skplt\n",
    "\n",
    "\n",
    "skplt.metrics.plot_roc_curve(Y_predict,model.predict(test.iloc[:,:-1]), figsize = (8,8))\n",
    "plt.show()"
   ]
  },
  {
   "cell_type": "code",
   "execution_count": null,
   "metadata": {
    "scrolled": false
   },
   "outputs": [],
   "source": [
    "model.summary()"
   ]
  },
  {
   "cell_type": "code",
   "execution_count": null,
   "metadata": {
    "scrolled": false
   },
   "outputs": [],
   "source": [
    "# modeleval = model.evaluate(test.iloc[:,:-1], test.digit,verbose=0)[-1]\n",
    "modeleval = 1"
   ]
  },
  {
   "cell_type": "markdown",
   "metadata": {},
   "source": [
    "### FL"
   ]
  },
  {
   "cell_type": "code",
   "execution_count": null,
   "metadata": {
    "scrolled": false
   },
   "outputs": [],
   "source": [
    "import os\n",
    "os.system('python3 client-t1-v2.py two 0')\n",
    "os.system('python3 client-t1-v2.py two 1')\n",
    "os.system('python3 client-t1-v2.py two 2')\n",
    "os.system('python3 client-t1-v2.py two 3')\n",
    "os.system('python3 client-t1-v2.py two 4')\n",
    "os.system('python3 client-t1-v2.py two 5')\n",
    "os.system('python3 client-t1-v2.py two 6')\n",
    "os.system('python3 client-t1-v2.py two 7')\n",
    "os.system('python3 client-t1-v2.py two 8')\n",
    "os.system('python3 client-t1-v2.py two 9')"
   ]
  },
  {
   "cell_type": "code",
   "execution_count": null,
   "metadata": {
    "scrolled": true
   },
   "outputs": [],
   "source": [
    "from tqdm import tqdm_notebook\n",
    "R=[]\n",
    "for i in tqdm_notebook(range(1,31)):\n",
    "    model0 = tf.keras.models.load_model('Local-two-0')\n",
    "    model1 = tf.keras.models.load_model('Local-two-1')\n",
    "    model2 = tf.keras.models.load_model('Local-two-2')\n",
    "    model3 = tf.keras.models.load_model('Local-two-3')\n",
    "    model4 = tf.keras.models.load_model('Local-two-4')\n",
    "    model5 = tf.keras.models.load_model('Local-two-5')\n",
    "    model6 = tf.keras.models.load_model('Local-two-6')\n",
    "    model7 = tf.keras.models.load_model('Local-two-7')    \n",
    "    model8 = tf.keras.models.load_model('Local-two-8')\n",
    "    model9 = tf.keras.models.load_model('Local-two-9')\n",
    "\n",
    "    w01,b01,w02,b02,w03,b03 = model0.get_weights()\n",
    "    w11,b11,w12,b12,w13,b13 = model1.get_weights()\n",
    "    w21,b21,w22,b22,w23,b23 = model2.get_weights()\n",
    "    w31,b31,w32,b32,w33,b33 = model3.get_weights()\n",
    "    w41,b41,w42,b42,w43,b43 = model4.get_weights()\n",
    "    w51,b51,w52,b52,w53,b53 = model5.get_weights()\n",
    "    w61,b61,w62,b62,w63,b63 = model6.get_weights()\n",
    "    w71,b71,w72,b72,w73,b73 = model7.get_weights()\n",
    "    w81,b81,w82,b82,w83,b83 = model8.get_weights()\n",
    "    w91,b91,w92,b92,w93,b93 = model9.get_weights()\n",
    "    \n",
    "    model0eval = model0.evaluate(test.iloc[:,:-1], test.digit,verbose=0)[-1]\n",
    "    model1eval = model1.evaluate(test.iloc[:,:-1], test.digit,verbose=0)[-1]\n",
    "    model2eval = model2.evaluate(test.iloc[:,:-1], test.digit,verbose=0)[-1]\n",
    "    model3eval = model3.evaluate(test.iloc[:,:-1], test.digit,verbose=0)[-1]\n",
    "    model4eval = model4.evaluate(test.iloc[:,:-1], test.digit,verbose=0)[-1]\n",
    "    model5eval = model5.evaluate(test.iloc[:,:-1], test.digit,verbose=0)[-1]\n",
    "    model6eval = model6.evaluate(test.iloc[:,:-1], test.digit,verbose=0)[-1]\n",
    "    model7eval = model7.evaluate(test.iloc[:,:-1], test.digit,verbose=0)[-1]\n",
    "    model8eval = model8.evaluate(test.iloc[:,:-1], test.digit,verbose=0)[-1]\n",
    "    model9eval = model9.evaluate(test.iloc[:,:-1], test.digit,verbose=0)[-1]\n",
    "    \n",
    "    if model0eval !=0:\n",
    "        w01 = np.array(w01)*(model0eval/modeleval)\n",
    "        b01 = np.array(b01)*(model0eval/modeleval)\n",
    "        w02 = np.array(w02)*(model0eval/modeleval)\n",
    "        b02 = np.array(b02)*(model0eval/modeleval)\n",
    "        w03 = np.array(w03)*(model0eval/modeleval)\n",
    "        b03 = np.array(b03)*(model0eval/modeleval)\n",
    "    if model0eval ==0:\n",
    "        w01 = np.array(w01)\n",
    "        b01 = np.array(b01)\n",
    "        w02 = np.array(w02)\n",
    "        b02 = np.array(b02)\n",
    "        w03 = np.array(w03)\n",
    "        b03 = np.array(b03)\n",
    "    #1    \n",
    "    if model1eval !=0:\n",
    "        w11 = np.array(w11)*(model1eval/modeleval)\n",
    "        b11 = np.array(b11)*(model1eval/modeleval)\n",
    "        w12 = np.array(w12)*(model1eval/modeleval)\n",
    "        b12 = np.array(b12)*(model1eval/modeleval)\n",
    "        w13 = np.array(w13)*(model1eval/modeleval)\n",
    "        b13 = np.array(b13)*(model1eval/modeleval)\n",
    "    if model1eval ==0:\n",
    "        w11 = np.array(w11)\n",
    "        b11 = np.array(b11)\n",
    "        w12 = np.array(w12)\n",
    "        b12 = np.array(b12)\n",
    "        w13 = np.array(w13)\n",
    "        b13 = np.array(b13)\n",
    "    #2    \n",
    "    if model2eval !=0:\n",
    "        w21 = np.array(w21)*(model2eval/modeleval)\n",
    "        b21 = np.array(b21)*(model2eval/modeleval)\n",
    "        w22 = np.array(w22)*(model2eval/modeleval)\n",
    "        b22 = np.array(b22)*(model2eval/modeleval)\n",
    "        w23 = np.array(w23)*(model2eval/modeleval)\n",
    "        b23 = np.array(b23)*(model2eval/modeleval)\n",
    "    if model2eval ==0:\n",
    "        w21 = np.array(w21)\n",
    "        b21 = np.array(b21)\n",
    "        w22 = np.array(w22)\n",
    "        b22 = np.array(b22)\n",
    "        w23 = np.array(w23)\n",
    "        b23 = np.array(b23)\n",
    "    #3    \n",
    "    if model3eval !=0:\n",
    "        w31 = np.array(w31)*(model3eval/modeleval)\n",
    "        b31 = np.array(b31)*(model3eval/modeleval)\n",
    "        w32 = np.array(w32)*(model3eval/modeleval)\n",
    "        b32 = np.array(b32)*(model3eval/modeleval)\n",
    "        w33 = np.array(w33)*(model3eval/modeleval)\n",
    "        b33 = np.array(b33)*(model3eval/modeleval)\n",
    "    if model3eval ==0:\n",
    "        w31 = np.array(w31)\n",
    "        b31 = np.array(b31)\n",
    "        w32 = np.array(w32)\n",
    "        b32 = np.array(b32)\n",
    "        w33 = np.array(w33)\n",
    "        b33 = np.array(b33)\n",
    "   #4     \n",
    "    if model4eval !=0:\n",
    "        w41 = np.array(w41)*(model4eval/modeleval)\n",
    "        b41 = np.array(b41)*(model4eval/modeleval)\n",
    "        w42 = np.array(w42)*(model4eval/modeleval)\n",
    "        b42 = np.array(b42)*(model4eval/modeleval)\n",
    "        w43 = np.array(w43)*(model4eval/modeleval)\n",
    "        b43 = np.array(b43)*(model4eval/modeleval)\n",
    "    if model4eval ==0:\n",
    "        w41 = np.array(w41)\n",
    "        b41 = np.array(b41)\n",
    "        w42 = np.array(w42)\n",
    "        b42 = np.array(b42)\n",
    "        w43 = np.array(w43)\n",
    "        b43 = np.array(b43)\n",
    "    #5\n",
    "    if model5eval !=0:\n",
    "        w51 = np.array(w51)*(model5eval/modeleval)\n",
    "        b51 = np.array(b51)*(model5eval/modeleval)\n",
    "        w52 = np.array(w52)*(model5eval/modeleval)\n",
    "        b52 = np.array(b52)*(model5eval/modeleval)\n",
    "        w53 = np.array(w53)*(model5eval/modeleval)\n",
    "        b53 = np.array(b53)*(model5eval/modeleval)\n",
    "    if model5eval ==0:\n",
    "        w51 = np.array(w51)\n",
    "        b51 = np.array(b51)\n",
    "        w52 = np.array(w52)\n",
    "        b52 = np.array(b52)\n",
    "        w53 = np.array(w53)\n",
    "        b53 = np.array(b53)\n",
    "    #6\n",
    "    if model6eval !=0:\n",
    "        w61 = np.array(w61)*(model6eval/modeleval)\n",
    "        b61 = np.array(b61)*(model6eval/modeleval)\n",
    "        w62 = np.array(w62)*(model6eval/modeleval)\n",
    "        b62 = np.array(b62)*(model6eval/modeleval)\n",
    "        w63 = np.array(w63)*(model6eval/modeleval)\n",
    "        b63 = np.array(b63)*(model6eval/modeleval)\n",
    "    if model6eval ==0:\n",
    "        w61 = np.array(w61)\n",
    "        b61 = np.array(b61)\n",
    "        w62 = np.array(w62)\n",
    "        b62 = np.array(b62)\n",
    "        w63 = np.array(w63)\n",
    "        b63 = np.array(b63)\n",
    "    #7\n",
    "    if model7eval !=0:\n",
    "        w71 = np.array(w71)*(model7eval/modeleval)\n",
    "        b71 = np.array(b71)*(model7eval/modeleval)\n",
    "        w72 = np.array(w72)*(model7eval/modeleval)\n",
    "        b72 = np.array(b72)*(model7eval/modeleval)\n",
    "        w73 = np.array(w73)*(model7eval/modeleval)\n",
    "        b73 = np.array(b73)*(model7eval/modeleval)\n",
    "    if model7eval ==0:\n",
    "        w71 = np.array(w71)\n",
    "        b71 = np.array(b71)\n",
    "        w72 = np.array(w72)\n",
    "        b72 = np.array(b72)\n",
    "        w73 = np.array(w73)\n",
    "        b73 = np.array(b73)\n",
    "    #8\n",
    "    if model8eval !=0:\n",
    "        w81 = np.array(w81)*(model8eval/modeleval)\n",
    "        b81 = np.array(b81)*(model8eval/modeleval)\n",
    "        w82 = np.array(w82)*(model8eval/modeleval)\n",
    "        b82 = np.array(b82)*(model8eval/modeleval)\n",
    "        w83 = np.array(w83)*(model8eval/modeleval)\n",
    "        b83 = np.array(b83)*(model8eval/modeleval)\n",
    "    if model8eval ==0:\n",
    "        w81 = np.array(w81)\n",
    "        b81 = np.array(b81)\n",
    "        w82 = np.array(w82)\n",
    "        b82 = np.array(b82)\n",
    "        w83 = np.array(w83)\n",
    "        b83 = np.array(b83)\n",
    "    #9    \n",
    "    if model9eval !=0:\n",
    "        w91 = np.array(w91)*(model9eval/modeleval)\n",
    "        b91 = np.array(b91)*(model9eval/modeleval)\n",
    "        w92 = np.array(w92)*(model9eval/modeleval)\n",
    "        b92 = np.array(b92)*(model9eval/modeleval)\n",
    "        w93 = np.array(w93)*(model9eval/modeleval)\n",
    "        b93 = np.array(b93)*(model9eval/modeleval)\n",
    "    if model9eval ==0:\n",
    "        w91 = np.array(w91)\n",
    "        b91 = np.array(b91)\n",
    "        w92 = np.array(w92)\n",
    "        b92 = np.array(b92)\n",
    "        w93 = np.array(w93)\n",
    "        b93 = np.array(b93)\n",
    "        \n",
    "    os.system('rm -rf Local-two*')\n",
    "#     os.system('rm -rf TEST2')\n",
    "\n",
    "    w1 = np.array([w01,w11,w21,w31,w41,w51,w61,w71,w81,w91])\n",
    "    w2 = np.array([w02,w12,w22,w32,w42,w52,w62,w72,w82,w92])\n",
    "    w3 = np.array([w03,w13,w23,w33,w43,w53,w63,w73,w83,w93])\n",
    "    b1 = np.array([b01,b11,b21,b31,b41,b51,b61,b71,b81,b91])\n",
    "    b2 = np.array([b02,b12,b22,b32,b42,b52,b62,b72,b82,b92])\n",
    "    b3 = np.array([b03,b13,b23,b33,b43,b53,b63,b73,b83,b93])\n",
    "\n",
    "    W1 = w1.sum(axis=0)/10\n",
    "    W2 = w2.sum(axis=0)/10\n",
    "    W3 = w3.sum(axis=0)/10\n",
    "\n",
    "    B1 = b1.sum(axis=0)/10\n",
    "    B2 = b2.sum(axis=0)/10\n",
    "    B3 = b3.sum(axis=0)/10\n",
    "\n",
    "    model.set_weights([W1,B1,W2,B2,W3,B3])\n",
    "\n",
    "#     y_predict = model.predict_classes(test.iloc[:,:-1])\n",
    "#     Y_predict = np.array(test.digit)\n",
    "\n",
    "#     print(classification_report(Y_predict, y_predict))\n",
    "\n",
    "\n",
    "#     skplt.metrics.plot_roc_curve(Y_predict,model.predict(test.iloc[:,:-1]), figsize = (8,8))\n",
    "#     plt.show()\n",
    "\n",
    "    R.append(model.evaluate(test.iloc[:,:-1], test.digit))\n",
    "\n",
    "#     model.save('TESTV2')\n",
    "    model.save('TEST-{}'.format(i))\n",
    "\n",
    "    os.system('python3 client-v2.py two 0 {}'.format(i))\n",
    "    os.system('python3 client-v2.py two 1 {}'.format(i))\n",
    "    os.system('python3 client-v2.py two 2 {}'.format(i))\n",
    "    os.system('python3 client-v2.py two 3 {}'.format(i))\n",
    "    os.system('python3 client-v2.py two 4 {}'.format(i))\n",
    "    os.system('python3 client-v2.py two 5 {}'.format(i))\n",
    "    os.system('python3 client-v2.py two 6 {}'.format(i))\n",
    "    os.system('python3 client-v2.py two 7 {}'.format(i))\n",
    "    os.system('python3 client-v2.py two 8 {}'.format(i))\n",
    "    os.system('python3 client-v2.py two 9 {}'.format(i))"
   ]
  },
  {
   "cell_type": "code",
   "execution_count": null,
   "metadata": {},
   "outputs": [],
   "source": [
    "import seaborn as sns\n",
    "sns.set_theme(style= 'whitegrid')\n",
    "\n",
    "plt.figure(figsize=(8,6))\n",
    "plt.plot(list(map(lambda x:x[1],R)),label=\"accuracy\")\n",
    "plt.ylabel(\"accuracy\")\n",
    "plt.xlabel(\"round\")\n",
    "plt.legend(loc=\"lower right\")\n",
    "plt.show()"
   ]
  },
  {
   "cell_type": "code",
   "execution_count": null,
   "metadata": {},
   "outputs": [],
   "source": [
    "plt.figure(figsize=(8,6))\n",
    "plt.plot(list(map(lambda x:x[0],R)),label='loss')\n",
    "plt.ylabel(\"loss\")\n",
    "plt.xlabel(\"round\")\n",
    "plt.legend()\n",
    "plt.show()"
   ]
  },
  {
   "cell_type": "code",
   "execution_count": null,
   "metadata": {},
   "outputs": [],
   "source": [
    "import pickle\n",
    "# pickle.dump(R,open('cus3','wb'))"
   ]
  },
  {
   "cell_type": "code",
   "execution_count": null,
   "metadata": {},
   "outputs": [],
   "source": []
  },
  {
   "cell_type": "code",
   "execution_count": null,
   "metadata": {},
   "outputs": [],
   "source": []
  },
  {
   "cell_type": "code",
   "execution_count": null,
   "metadata": {},
   "outputs": [],
   "source": []
  }
 ],
 "metadata": {
  "kernelspec": {
   "display_name": "Python 3",
   "language": "python",
   "name": "python3"
  },
  "language_info": {
   "codemirror_mode": {
    "name": "ipython",
    "version": 3
   },
   "file_extension": ".py",
   "mimetype": "text/x-python",
   "name": "python",
   "nbconvert_exporter": "python",
   "pygments_lexer": "ipython3",
   "version": "3.8.5"
  }
 },
 "nbformat": 4,
 "nbformat_minor": 4
}
