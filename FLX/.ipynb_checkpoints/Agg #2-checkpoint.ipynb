{
 "cells": [
  {
   "cell_type": "code",
   "execution_count": null,
   "metadata": {},
   "outputs": [],
   "source": [
    "import nest_asyncio\n",
    "nest_asyncio.apply()"
   ]
  },
  {
   "cell_type": "code",
   "execution_count": null,
   "metadata": {},
   "outputs": [],
   "source": [
    "import collections\n",
    "import pickle\n",
    "\n",
    "import copy \n",
    "import numpy as np\n",
    "import tensorflow as tf\n",
    "import tensorflow_federated as tff\n",
    "from sklearn.utils import shuffle\n",
    "from sklearn.model_selection import train_test_split\n",
    "\n",
    "tff.backends.reference.set_reference_context()"
   ]
  },
  {
   "cell_type": "code",
   "execution_count": null,
   "metadata": {},
   "outputs": [],
   "source": [
    "from tensorflow.keras import layers\n",
    "from tensorflow.keras import activations\n",
    "from tensorflow.keras import models\n",
    "\n",
    "import math\n",
    "import pickle\n",
    "from matplotlib import pyplot as plt\n",
    "import pandas as pd\n",
    "import seaborn as sns\n",
    "from operator import add\n",
    "\n",
    "import seaborn as sns\n",
    "sns.set_style(\"whitegrid\")"
   ]
  },
  {
   "cell_type": "code",
   "execution_count": null,
   "metadata": {},
   "outputs": [],
   "source": [
    "D = pickle.load(open('COUNT','rb'))\n",
    "FROUND = pickle.load(open('R1','rb'))\n",
    "OROUND = pickle.load(open('Rs','rb'))"
   ]
  },
  {
   "cell_type": "code",
   "execution_count": null,
   "metadata": {},
   "outputs": [],
   "source": [
    "def getModel():\n",
    "    model = tf.keras.models.Sequential([\n",
    "        tf.keras.layers.Dense(16, activation='relu'),\n",
    "        tf.keras.layers.Dense(10,activation=\"sigmoid\")\n",
    "    ])\n",
    "    model.compile(optimizer='adam',\n",
    "              loss=tf.keras.losses.SparseCategoricalCrossentropy(from_logits=True),\n",
    "              metrics=['accuracy'])\n",
    "    return model"
   ]
  },
  {
   "cell_type": "code",
   "execution_count": null,
   "metadata": {},
   "outputs": [],
   "source": [
    "import numpy as np\n",
    "from collections import Counter\n",
    "\n",
    "def getweight(df):\n",
    "    LBL = Counter(df.digit)\n",
    "    maen_arr = np.mean(list(map(lambda x:x[1]/D[x[0]],list(LBL.items()))))\n",
    "    return maen_arr"
   ]
  },
  {
   "cell_type": "code",
   "execution_count": null,
   "metadata": {},
   "outputs": [],
   "source": [
    "writer_models = []\n",
    "cw = []\n",
    "\n",
    "def train_on_clients():\n",
    "    for writer in range(1,31):\n",
    "        df = FROUND.get(writer)\n",
    "        cw.append(getweight(df))\n",
    "        labels = df['digit'].to_numpy()\n",
    "        df_copy = df.drop(['digit','writer'], axis=1)\n",
    "        model = getModel()\n",
    "        model.fit(df_copy.to_numpy(), labels, epochs=10)\n",
    "        writer_models.append(model)"
   ]
  },
  {
   "cell_type": "code",
   "execution_count": null,
   "metadata": {},
   "outputs": [],
   "source": [
    "train_on_clients()"
   ]
  },
  {
   "cell_type": "code",
   "execution_count": null,
   "metadata": {},
   "outputs": [],
   "source": [
    "def average(rounds, weights):\n",
    "    \n",
    "    agg_model = rounds[0]\n",
    "    l1,b1,l2,b2 = agg_model.get_weights()\n",
    "    w1 = weights[0]\n",
    "    \n",
    "    l1*=w1\n",
    "    b1*=w1\n",
    "    l2*=w1\n",
    "    b2*=w1\n",
    "    \n",
    "    CONST = sum(weights)\n",
    "    \n",
    "    for i,w in zip(rounds[1:],weights[1:]):\n",
    "        tl1,tb1,tl2,tb2 = i.get_weights()\n",
    "        l1+=(tl1*w)\n",
    "        b1+=(tb1*w)        \n",
    "        l2+=(tl2*w)        \n",
    "        b2+=(tb2*w)\n",
    "        \n",
    "    agg_model.set_weights([l1/CONST,b1/CONST,l2/CONST,b2/CONST])\n",
    "    return agg_model"
   ]
  },
  {
   "cell_type": "code",
   "execution_count": null,
   "metadata": {},
   "outputs": [],
   "source": [
    "DF_TEST = pd.read_csv('TEST.csv').iloc[:,1:]\n",
    "labels_tes = DF_TEST['digit'].to_numpy()\n",
    "df_tes = DF_TEST.drop(['digit'], axis=1)"
   ]
  },
  {
   "cell_type": "code",
   "execution_count": null,
   "metadata": {
    "scrolled": true
   },
   "outputs": [],
   "source": [
    "agg_model = average(writer_models,cw)"
   ]
  },
  {
   "cell_type": "code",
   "execution_count": null,
   "metadata": {},
   "outputs": [],
   "source": [
    "agg_model.evaluate(df_tes.to_numpy(), labels_tes)"
   ]
  },
  {
   "cell_type": "code",
   "execution_count": null,
   "metadata": {},
   "outputs": [],
   "source": [
    "from tqdm.notebook import tqdm\n",
    "GLOBAL = []\n",
    "history = []\n",
    "for i in tqdm(range(10)):\n",
    "    rounds = []\n",
    "    cw_local = []\n",
    "    for writer in range(1,31):\n",
    "        df = OROUND[i].get(writer)\n",
    "        cw_local.append(getweight(df))\n",
    "        labels = df['digit'].to_numpy()\n",
    "        df_copy = df.drop(['digit','writer'], axis=1)\n",
    "        model = agg_model\n",
    "        model.fit(df_copy.to_numpy(), labels, epochs=10,verbose=0)\n",
    "        rounds.append(model)\n",
    "    agg_model = average(rounds, cw_local)\n",
    "    GLOBAL.append({\n",
    "        'round {}'.format(i):agg_model\n",
    "    })\n",
    "    print('----------Global Model-----------')\n",
    "    his = agg_model.evaluate(df_tes.to_numpy(), labels_tes)\n",
    "    history.append(his)\n",
    "pickle.dump(history,open('agg2','wb'))"
   ]
  },
  {
   "cell_type": "code",
   "execution_count": null,
   "metadata": {},
   "outputs": [],
   "source": []
  }
 ],
 "metadata": {
  "kernelspec": {
   "display_name": "Python 3",
   "language": "python",
   "name": "python3"
  },
  "language_info": {
   "codemirror_mode": {
    "name": "ipython",
    "version": 3
   },
   "file_extension": ".py",
   "mimetype": "text/x-python",
   "name": "python",
   "nbconvert_exporter": "python",
   "pygments_lexer": "ipython3",
   "version": "3.8.5"
  }
 },
 "nbformat": 4,
 "nbformat_minor": 4
}
