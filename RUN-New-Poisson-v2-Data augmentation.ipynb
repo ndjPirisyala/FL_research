{
 "cells": [
  {
   "cell_type": "code",
   "execution_count": 1,
   "metadata": {},
   "outputs": [],
   "source": [
    "import math\n",
    "import random \n",
    "import collections\n",
    "import numpy as np\n",
    "\n",
    "import nest_asyncio\n",
    "import tensorflow as tf\n",
    "import tensorflow_federated as tff\n",
    "import seaborn as sns\n",
    "\n",
    "from tensorflow.keras import activations\n",
    "from statistics import mean\n",
    "from collections import Counter\n",
    "\n",
    "from tqdm.notebook import tqdm as tqdm_notebook\n",
    "\n",
    "import seaborn as sns\n",
    "from matplotlib import pyplot as plt\n",
    "\n",
    "from math import sqrt\n",
    "\n",
    "sns.set_theme(style= 'whitegrid')\n",
    "nest_asyncio.apply()\n",
    "tff.backends.reference.set_reference_context()"
   ]
  },
  {
   "cell_type": "markdown",
   "metadata": {},
   "source": [
    "### Data augmentation"
   ]
  },
  {
   "cell_type": "code",
   "execution_count": 2,
   "metadata": {},
   "outputs": [],
   "source": [
    "from random import randint, choice, shuffle\n",
    "from math import ceil\n",
    "from itertools import chain"
   ]
  },
  {
   "cell_type": "code",
   "execution_count": 3,
   "metadata": {},
   "outputs": [],
   "source": [
    "feature_space = {\n",
    "'class1':[ range(randint(0, 15),randint(1000, 2000)),\n",
    "              range(randint(10, 25),randint(2000, 3000)),\n",
    "              range(randint(20, 35),randint(3000, 4000)),\n",
    "              range(randint(30, 45),randint(4000, 5000)),\n",
    "              range(randint(40, 55),randint(5000, 6000)),\n",
    "              range(randint(50, 65),randint(6000, 7000)),\n",
    "              range(randint(60, 75),randint(7000, 8000)),\n",
    "              range(randint(70, 85),randint(8000, 9000)),\n",
    "              range(randint(80, 95),randint(9000, 10000)),\n",
    "              range(randint(90, 105),randint(10000, 11000))],\n",
    "    \n",
    " 'class2':[range(randint(10, 25),randint(1500, 2500)),\n",
    "              range(randint(20, 35),randint(2500, 3500)),\n",
    "              range(randint(30, 45),randint(3500, 4500)),\n",
    "              range(randint(40, 55),randint(4500, 5500)),\n",
    "              range(randint(50, 65),randint(5500, 6500)),\n",
    "              range(randint(60, 75),randint(6500, 7500)),\n",
    "              range(randint(70, 85),randint(7500, 8500)),\n",
    "              range(randint(80, 95),randint(8500, 9500)),\n",
    "              range(randint(90, 105),randint(9500, 10500)),\n",
    "              range(randint(100, 115),randint(10500, 11500))],\n",
    "    \n",
    "    \n",
    "'class3':[range(randint(20, 35),randint(2000, 3000)),\n",
    "              range(randint(30, 45),randint(3000, 4000)),\n",
    "              range(randint(40, 55),randint(4000, 5000)),\n",
    "              range(randint(50, 65),randint(5000, 6000)),\n",
    "              range(randint(60, 75),randint(6000, 7000)),\n",
    "              range(randint(70, 85),randint(7000, 8000)),\n",
    "              range(randint(80, 95),randint(8000, 90000)),\n",
    "              range(randint(90, 105),randint(9000, 10000)),\n",
    "              range(randint(100, 115),randint(10000, 11000)),\n",
    "              range(randint(110, 125),randint(11000, 12000))],\n",
    "    \n",
    "'class4':[range(randint(30, 45),randint(2500, 3500)),\n",
    "              range(randint(40, 55),randint(3500, 4500)),\n",
    "              range(randint(50, 65),randint(4500, 5500)),\n",
    "              range(randint(60, 75),randint(5500, 6500)),\n",
    "              range(randint(70, 85),randint(6500, 7500)),\n",
    "              range(randint(80, 95),randint(7500, 8500)),\n",
    "              range(randint(90, 105),randint(8500, 9500)),\n",
    "              range(randint(100, 115),randint(9500, 10500)),\n",
    "              range(randint(110, 125),randint(10500, 11500)),\n",
    "              range(randint(120, 135),randint(11500, 12500))],\n",
    "    \n",
    "'class5':[range(randint(40, 55),randint(3000, 4000)),\n",
    "              range(randint(50, 65),randint(4000, 5000)),\n",
    "              range(randint(60, 75),randint(5000, 6000)),\n",
    "              range(randint(70, 85),randint(6000, 7000)),\n",
    "              range(randint(80, 95),randint(7000, 8000)),\n",
    "              range(randint(90, 105),randint(8000, 9000)),\n",
    "              range(randint(100, 115),randint(9000, 10000)),\n",
    "              range(randint(110, 125),randint(10000, 11000)),\n",
    "              range(randint(120, 135),randint(11000, 12000)),\n",
    "              range(randint(130, 145),randint(12000, 13000))],\n",
    "    \n",
    "'class6':[range(randint(50, 65),randint(3500, 4500)),\n",
    "              range(randint(60, 75),randint(4500, 5500)),\n",
    "              range(randint(70, 85),randint(5500, 6500)),\n",
    "              range(randint(80, 95),randint(6500, 7500)),\n",
    "              range(randint(90, 105),randint(7500, 8500)),\n",
    "              range(randint(100, 115),randint(8500, 9500)),\n",
    "              range(randint(110, 125),randint(9500, 10500)),\n",
    "              range(randint(120, 135),randint(10500, 11500)),\n",
    "              range(randint(130, 145),randint(11500, 12500)),\n",
    "              range(randint(140, 155),randint(12500, 13500))],\n",
    "    \n",
    "'class7':[range(randint(60, 75),randint(4000, 5000)),\n",
    "              range(randint(70, 85),randint(5000, 6000)),\n",
    "              range(randint(80, 95),randint(6000, 7000)),\n",
    "              range(randint(90, 105),randint(7000, 8000)),\n",
    "              range(randint(100, 115),randint(8000, 9000)),\n",
    "              range(randint(110, 125),randint(9000, 10000)),\n",
    "              range(randint(120, 135),randint(10000, 11000)),\n",
    "              range(randint(130, 145),randint(11000, 12000)),\n",
    "              range(randint(140, 155),randint(12000, 13000)),\n",
    "              range(randint(150, 165),randint(13000, 14000))],\n",
    "    \n",
    "'class8':[range(randint(70, 85),randint(4500, 5500)),\n",
    "              range(randint(80, 95),randint(5500, 6500)),\n",
    "              range(randint(90, 105),randint(6500, 7500)),\n",
    "              range(randint(100, 115),randint(7500, 8500)),\n",
    "              range(randint(110, 125),randint(8500, 9500)),\n",
    "              range(randint(120, 135),randint(9500, 10500)),\n",
    "              range(randint(130, 145),randint(10500, 11500)),\n",
    "              range(randint(140, 155),randint(11500, 12500)),\n",
    "              range(randint(150, 165),randint(12500, 13500)),\n",
    "              range(randint(160, 175),randint(13500, 14500))],\n",
    "    \n",
    "'class9':[range(randint(80, 95),randint(5000, 6000)),\n",
    "              range(randint(90, 105),randint(6000, 7000)),\n",
    "              range(randint(100, 115),randint(7000, 8000)),\n",
    "              range(randint(110, 125),randint(8000, 9000)),\n",
    "              range(randint(120, 135),randint(9000, 10000)),\n",
    "              range(randint(130, 145),randint(10000, 11000)),\n",
    "              range(randint(140, 155),randint(11000, 12000)),\n",
    "              range(randint(150, 165),randint(12000, 13000)),\n",
    "              range(randint(160, 175),randint(13000, 14000)),\n",
    "              range(randint(170, 185),randint(14000, 15000))],\n",
    "    \n",
    "'class10':[range(randint(90, 105),randint(5500, 6500)),\n",
    "              range(randint(100, 115),randint(6500, 7500)),\n",
    "              range(randint(110, 125),randint(7500, 8500)),\n",
    "              range(randint(120, 135),randint(8500, 9500)),\n",
    "              range(randint(130, 145),randint(9500, 10500)),\n",
    "              range(randint(140, 155),randint(10500, 11500)),\n",
    "              range(randint(150, 165),randint(11500, 12500)),\n",
    "              range(randint(160, 175),randint(12500, 13500)),\n",
    "              range(randint(170, 185),randint(13500, 14500)),\n",
    "              range(randint(180, 195),randint(14500, 15500))],\n",
    "    \n",
    "}\n",
    "\n",
    "def datapicker(fs, numodpoints):\n",
    "    data = {}\n",
    "    for i in fs:\n",
    "        temp = []\n",
    "        for ii in range(numodpoints):\n",
    "            point = []\n",
    "            for iii in fs.get(i):\n",
    "                point.append(choice(iii))\n",
    "            temp.append(point)\n",
    "        data[i]=temp\n",
    "    return data"
   ]
  },
  {
   "cell_type": "code",
   "execution_count": 4,
   "metadata": {},
   "outputs": [],
   "source": [
    "DATAPOINTS = 10000\n",
    "data = datapicker(feature_space,DATAPOINTS)"
   ]
  },
  {
   "cell_type": "code",
   "execution_count": 5,
   "metadata": {},
   "outputs": [],
   "source": [
    "#Normalize columns of pandas data frame\n",
    "# data = data.iloc[:,:].apply(lambda x: x/x.max(), axis=0)"
   ]
  },
  {
   "cell_type": "code",
   "execution_count": 6,
   "metadata": {},
   "outputs": [],
   "source": [
    "# data.head(1)"
   ]
  },
  {
   "cell_type": "code",
   "execution_count": 7,
   "metadata": {},
   "outputs": [],
   "source": [
    "def convert(lst,cls):\n",
    "    LIST = lst[:]\n",
    "    LIST.append(int(cls[-1:]))\n",
    "    return LIST"
   ]
  },
  {
   "cell_type": "code",
   "execution_count": 8,
   "metadata": {},
   "outputs": [],
   "source": [
    "def newDATA(data):\n",
    "    return(list(map(lambda x:x+[1],data.get('class1'))),\n",
    "           list(map(lambda x:x+[2],data.get('class2'))),\n",
    "           list(map(lambda x:x+[3],data.get('class3'))),\n",
    "           list(map(lambda x:x+[4],data.get('class4'))),\n",
    "           list(map(lambda x:x+[5],data.get('class5'))),\n",
    "           list(map(lambda x:x+[6],data.get('class6'))),\n",
    "           list(map(lambda x:x+[7],data.get('class7'))),\n",
    "           list(map(lambda x:x+[8],data.get('class8'))),\n",
    "           list(map(lambda x:x+[9],data.get('class9'))),\n",
    "           list(map(lambda x:x+[10],data.get('class10')))\n",
    "          )"
   ]
  },
  {
   "cell_type": "code",
   "execution_count": 9,
   "metadata": {},
   "outputs": [],
   "source": [
    "from random import randint\n",
    "from math import ceil"
   ]
  },
  {
   "cell_type": "code",
   "execution_count": 10,
   "metadata": {},
   "outputs": [],
   "source": [
    "def createClientsDATA(data):\n",
    "    class1 = data.get('class1')\n",
    "    class2 = data.get('class2')\n",
    "    class3 = data.get('class3')\n",
    "    class4 = data.get('class4')\n",
    "    class5 = data.get('class5')\n",
    "    class6 = data.get('class6')\n",
    "    class7 = data.get('class7')\n",
    "    class8 = data.get('class8')\n",
    "    class9 = data.get('class9')\n",
    "    class10 = data.get('class10')\n",
    "\n",
    "\n",
    "    class1_1, class1_2, class1_3, class1_4, class1_5, class1_6, class1_7, class1_8, class1_9, class1_10 = [class1[:6400],class1[6400:6800],class1[6800:7200],class1[7200:7600],class1[7600:8000],class1[8000:8400],class1[8400:8800],class1[8800:9200],class1[9200:9600], class1[9600:]]\n",
    "    class2_1, class2_2, class2_3, class2_4, class2_5, class2_6, class2_7, class2_8, class2_9, class2_10 = [class2[:6400],class2[6400:6800],class2[6800:7200],class2[7200:7600],class2[7600:8000],class2[8000:8400],class2[8400:8800],class2[8800:9200],class2[9200:9600], class2[9600:]]\n",
    "    class3_1, class3_2, class3_3, class3_4, class3_5, class3_6, class3_7, class3_8, class3_9, class3_10 = [class3[:6400],class3[6400:6800],class3[6800:7200],class3[7200:7600],class3[7600:8000],class3[8000:8400],class3[8400:8800],class3[8800:9200],class3[9200:9600], class3[9600:]]\n",
    "    class4_1, class4_2, class4_3, class4_4, class4_5, class4_6, class4_7, class4_8, class4_9, class4_10 = [class4[:6400],class4[6400:6800],class4[6800:7200],class4[7200:7600],class4[7600:8000],class4[8000:8400],class4[8400:8800],class4[8800:9200],class4[9200:9600], class4[9600:]]\n",
    "    class5_1, class5_2, class5_3, class5_4, class5_5, class5_6, class5_7, class5_8, class5_9, class5_10 = [class5[:6400],class5[6400:6800],class5[6800:7200],class5[7200:7600],class5[7600:8000],class5[8000:8400],class5[8400:8800],class5[8800:9200],class5[9200:9600], class5[9600:]]\n",
    "    class6_1, class6_2, class6_3, class6_4, class6_5, class6_6, class6_7, class6_8, class6_9, class6_10 = [class6[:6400],class6[6400:6800],class6[6800:7200],class6[7200:7600],class6[7600:8000],class6[8000:8400],class6[8400:8800],class6[8800:9200],class6[9200:9600], class6[9600:]]\n",
    "    class7_1, class7_2, class7_3, class7_4, class7_5, class7_6, class7_7, class7_8, class7_9, class7_10 = [class7[:6400],class7[6400:6800],class7[6800:7200],class7[7200:7600],class7[7600:8000],class7[8000:8400],class7[8400:8800],class7[8800:9200],class7[9200:9600], class7[9600:]]\n",
    "    class8_1, class8_2, class8_3, class8_4, class8_5, class8_6, class8_7, class8_8, class8_9, class8_10 = [class8[:6400],class8[6400:6800],class8[6800:7200],class8[7200:7600],class8[7600:8000],class8[8000:8400],class8[8400:8800],class8[8800:9200],class8[9200:9600], class8[9600:]]\n",
    "    class9_1, class9_2, class9_3, class9_4, class9_5, class9_6, class9_7, class9_8, class9_9, class9_10 = [class9[:6400],class9[6400:6800],class9[6800:7200],class9[7200:7600],class9[7600:8000],class9[8000:8400],class9[8400:8800],class9[8800:9200],class9[9200:9600], class9[9600:]]\n",
    "    class10_1, class10_2, class10_3, class10_4, class10_5, class10_6, class10_7, class10_8, class10_9, class10_10 = [class10[:6400],class10[6400:6800],class10[6800:7200],class10[7200:7600],class10[7600:8000],class10[8000:8400],class10[8400:8800],class10[8800:9200],class10[9200:9600], class10[9600:]]\n",
    "    \n",
    "    client1  = list(map(lambda x:x+[1],class1_1)) + list(map(lambda x:x+[2],class2_2)) + list(map(lambda x:x+[3],class3_2)) + list(map(lambda x:x+[4],class4_2)) + list(map(lambda x:x+[5],class5_2)) + list(map(lambda x:x+[6],class6_2)) + list(map(lambda x:x+[7],class7_2)) +  list(map(lambda x:x+[8],class8_2)) + list(map(lambda x:x+[9],class9_2)) + list(map(lambda x:x+[10],class10_2))\n",
    "    client2  = list(map(lambda x:x+[1],class1_2)) + list(map(lambda x:x+[2],class2_1)) + list(map(lambda x:x+[3],class3_3)) + list(map(lambda x:x+[4],class4_3)) + list(map(lambda x:x+[5],class5_3)) + list(map(lambda x:x+[6],class6_3)) + list(map(lambda x:x+[7],class7_3)) +  list(map(lambda x:x+[8],class8_3)) + list(map(lambda x:x+[9],class9_3)) + list(map(lambda x:x+[10],class10_3))\n",
    "    client3  = list(map(lambda x:x+[1],class1_3)) + list(map(lambda x:x+[2],class2_3)) + list(map(lambda x:x+[3],class3_1)) + list(map(lambda x:x+[4],class4_4)) + list(map(lambda x:x+[5],class5_4)) + list(map(lambda x:x+[6],class6_4)) + list(map(lambda x:x+[7],class7_4)) +  list(map(lambda x:x+[8],class8_4)) + list(map(lambda x:x+[9],class9_4)) + list(map(lambda x:x+[10],class10_4))\n",
    "    client4  = list(map(lambda x:x+[1],class1_4)) + list(map(lambda x:x+[2],class2_4)) + list(map(lambda x:x+[3],class3_4)) + list(map(lambda x:x+[4],class4_1)) + list(map(lambda x:x+[5],class5_5)) + list(map(lambda x:x+[6],class6_5)) + list(map(lambda x:x+[7],class7_5)) +  list(map(lambda x:x+[8],class8_5)) + list(map(lambda x:x+[9],class9_5)) + list(map(lambda x:x+[10],class10_5))\n",
    "    client5  = list(map(lambda x:x+[1],class1_5)) + list(map(lambda x:x+[2],class2_5)) + list(map(lambda x:x+[3],class3_5)) + list(map(lambda x:x+[4],class4_5)) + list(map(lambda x:x+[5],class5_1)) + list(map(lambda x:x+[6],class6_6)) + list(map(lambda x:x+[7],class7_6)) +  list(map(lambda x:x+[8],class8_6)) + list(map(lambda x:x+[9],class9_6)) + list(map(lambda x:x+[10],class10_6))\n",
    "    client6  = list(map(lambda x:x+[1],class1_6)) + list(map(lambda x:x+[2],class2_6)) + list(map(lambda x:x+[3],class3_6)) + list(map(lambda x:x+[4],class4_6)) + list(map(lambda x:x+[5],class5_6)) + list(map(lambda x:x+[6],class6_1)) + list(map(lambda x:x+[7],class7_7)) +  list(map(lambda x:x+[8],class8_7)) + list(map(lambda x:x+[9],class9_7)) + list(map(lambda x:x+[10],class10_7))\n",
    "    client7  = list(map(lambda x:x+[1],class1_7)) + list(map(lambda x:x+[2],class2_7)) + list(map(lambda x:x+[3],class3_7)) + list(map(lambda x:x+[4],class4_7)) + list(map(lambda x:x+[5],class5_7)) + list(map(lambda x:x+[6],class6_7)) + list(map(lambda x:x+[7],class7_1)) +  list(map(lambda x:x+[8],class8_8)) + list(map(lambda x:x+[9],class9_8)) + list(map(lambda x:x+[10],class10_8))\n",
    "    client8  = list(map(lambda x:x+[1],class1_8)) + list(map(lambda x:x+[2],class2_8)) + list(map(lambda x:x+[3],class3_8)) + list(map(lambda x:x+[4],class4_8)) + list(map(lambda x:x+[5],class5_8)) + list(map(lambda x:x+[6],class6_8)) + list(map(lambda x:x+[7],class7_8)) +  list(map(lambda x:x+[8],class8_1)) + list(map(lambda x:x+[9],class9_9)) + list(map(lambda x:x+[10],class10_9))\n",
    "    client9  = list(map(lambda x:x+[1],class1_9)) + list(map(lambda x:x+[2],class2_9)) + list(map(lambda x:x+[3],class3_9)) + list(map(lambda x:x+[4],class4_9)) + list(map(lambda x:x+[5],class5_9)) + list(map(lambda x:x+[6],class6_9)) + list(map(lambda x:x+[7],class7_9)) +  list(map(lambda x:x+[8],class8_9)) + list(map(lambda x:x+[9],class9_1)) + list(map(lambda x:x+[10],class10_10))\n",
    "    client10  = list(map(lambda x:x+[1],class1_10)) + list(map(lambda x:x+[2],class2_10)) + list(map(lambda x:x+[3],class3_10)) + list(map(lambda x:x+[4],class4_10)) + list(map(lambda x:x+[5],class5_10)) + list(map(lambda x:x+[6],class6_10)) + list(map(lambda x:x+[7],class7_10)) +  list(map(lambda x:x+[8],class8_10)) + list(map(lambda x:x+[9],class9_10)) + list(map(lambda x:x+[10],class10_1))\n",
    "    \n",
    "    return [client1,client2,client3,client4,client5,client6,client7,client8,client9,client10]\n",
    "\n",
    "\n",
    "    \n"
   ]
  },
  {
   "cell_type": "code",
   "execution_count": 11,
   "metadata": {},
   "outputs": [],
   "source": [
    "def createClients():\n",
    "    class1 = data.get('class1')\n",
    "    class2 = data.get('class2')\n",
    "    class3 = data.get('class3')\n",
    "    class4 = data.get('class4')\n",
    "    class5 = data.get('class5')\n",
    "\n",
    "    class1_1, class1_2, class1_3, class1_4, class1_5, class1_6 = [class1[:4000],class1[4000:8000],class1[8000:8500],class1[8500:9000], \n",
    "                                                                  class1[9000:9500],class1[9500:]]\n",
    "    class2_1, class2_2, class2_3, class2_4, class2_5, class2_6 = [class2[:4000],class2[4000:8000],class2[8000:8500],class2[8500:9000], \n",
    "                                                                  class2[9000:9500],class2[9500:]]\n",
    "    class3_1, class3_2, class3_3, class3_4, class3_5, class3_6 = [class3[:4000],class3[4000:8000],class3[8000:8500],class3[8500:9000], \n",
    "                                                                  class3[9000:9500],class3[9500:]]\n",
    "    class4_1, class4_2, class4_3, class4_4, class4_5, class4_6 = [class4[:4000],class4[4000:8000],class4[8000:8500],class4[8500:9000], \n",
    "                                                                  class4[9000:9500],class4[9500:]]\n",
    "    class5_1, class5_2, class5_3, class5_4, class5_5, class5_6 = [class5[:4000],class5[4000:8000],class5[8000:8500],class5[8500:9000], \n",
    "                                                                  class5[9000:9500],class5[9500:]]\n",
    "\n",
    "    client1  = list(map(lambda x:x+[1],class1_1)) + list(map(lambda x:x+[4],class4_3)) + list(map(lambda x:x+[5],class5_3))\n",
    "    client2  = list(map(lambda x:x+[1],class1_3)) + list(map(lambda x:x+[2],class2_3)) + list(map(lambda x:x+[3],class3_1))\n",
    "    client3  = list(map(lambda x:x+[1],class1_2)) + list(map(lambda x:x+[3],class3_3)) + list(map(lambda x:x+[4],class4_4))\n",
    "    client4  = list(map(lambda x:x+[3],class3_2)) + list(map(lambda x:x+[4],class4_5)) + list(map(lambda x:x+[5],class5_4))\n",
    "    client5  = list(map(lambda x:x+[2],class2_4)) + list(map(lambda x:x+[4],class4_1)) + list(map(lambda x:x+[5],class5_5))\n",
    "    client6  = list(map(lambda x:x+[1],class1_4)) + list(map(lambda x:x+[2],class2_1)) + list(map(lambda x:x+[3],class3_5))\n",
    "    client7  = list(map(lambda x:x+[2],class2_5)) + list(map(lambda x:x+[4],class4_6)) + list(map(lambda x:x+[5],class5_1))\n",
    "    client8  = list(map(lambda x:x+[2],class2_6)) + list(map(lambda x:x+[4],class4_2)) + list(map(lambda x:x+[5],class5_6))\n",
    "    client9  = list(map(lambda x:x+[1],class1_5)) + list(map(lambda x:x+[2],class2_2)) + list(map(lambda x:x+[3],class3_5))\n",
    "    client10 = list(map(lambda x:x+[1],class1_6)) + list(map(lambda x:x+[3],class3_6)) + list(map(lambda x:x+[5],class5_2))\n",
    "\n",
    "    return [client1,client2,client3,client4,client5,client6,client7,client8,client9,client10]\n"
   ]
  },
  {
   "cell_type": "code",
   "execution_count": 12,
   "metadata": {},
   "outputs": [],
   "source": [
    "def clientDATA(numofclient,data):\n",
    "    clients = {}\n",
    "    for i in range(numofclient):\n",
    "        mjc = set()\n",
    "        \n",
    "        cls = choice(list(data.keys()))\n",
    "        \n",
    "        mjc.add(cls)\n",
    "        \n",
    "        oc = set(data.keys())-mjc\n",
    "\n",
    "        mjv = randint(75,80)\n",
    "\n",
    "        ocv = randint(mjv//10, (mjv//10)+15)\n",
    "\n",
    "        mjdata = data.get(mjc.pop())\n",
    "\n",
    "        rslt = list(map(lambda x:convert(x,cls) , mjdata[:ceil(len(mjdata)*mjv/100)]))+list(chain.from_iterable(list(map(lambda x:list(map(lambda y:convert(y,x) , mjdata[:ceil(len(mjdata)*ocv/100)])),oc))))\n",
    "        \n",
    "        clients[i] = rslt\n",
    "    return clients"
   ]
  },
  {
   "cell_type": "code",
   "execution_count": 13,
   "metadata": {},
   "outputs": [],
   "source": [
    "# D1"
   ]
  },
  {
   "cell_type": "code",
   "execution_count": 14,
   "metadata": {},
   "outputs": [],
   "source": [
    "# CLIENT1, CLIENT2, CLIENT3, CLIENT4, CLIENT5, CLIENT6, CLIENT7, CLIENT8, CLIENT9, CLIENT10,= clientDATA(10,data).values()\n",
    "# DIM = 5"
   ]
  },
  {
   "cell_type": "code",
   "execution_count": 15,
   "metadata": {},
   "outputs": [],
   "source": [
    "# D2"
   ]
  },
  {
   "cell_type": "code",
   "execution_count": 16,
   "metadata": {},
   "outputs": [],
   "source": [
    "# CLIENT1, CLIENT2, CLIENT3, CLIENT4, CLIENT5, CLIENT6, CLIENT7, CLIENT8, CLIENT9, CLIENT10,= createClients()\n",
    "# DIM = 3"
   ]
  },
  {
   "cell_type": "code",
   "execution_count": 17,
   "metadata": {},
   "outputs": [],
   "source": [
    "# D3"
   ]
  },
  {
   "cell_type": "code",
   "execution_count": 18,
   "metadata": {},
   "outputs": [],
   "source": [
    "# CLIENT1, CLIENT2, CLIENT3, CLIENT4, CLIENT5, CLIENT6, CLIENT7, CLIENT8, CLIENT9, CLIENT10,= newDATA(data)\n",
    "# DIM = 1"
   ]
  },
  {
   "cell_type": "code",
   "execution_count": 19,
   "metadata": {},
   "outputs": [],
   "source": [
    "# D4"
   ]
  },
  {
   "cell_type": "code",
   "execution_count": 20,
   "metadata": {},
   "outputs": [],
   "source": [
    "CLIENT1, CLIENT2, CLIENT3, CLIENT4, CLIENT5, CLIENT6, CLIENT7, CLIENT8, CLIENT9, CLIENT10,= createClientsDATA(data)\n",
    "DIM = 10"
   ]
  },
  {
   "cell_type": "markdown",
   "metadata": {},
   "source": [
    "### Clients Data"
   ]
  },
  {
   "cell_type": "code",
   "execution_count": 21,
   "metadata": {},
   "outputs": [],
   "source": [
    "def get_batches(HOLDER):\n",
    "    federated_data = []\n",
    "    for i in HOLDER:\n",
    "        client = []\n",
    "        for index in range(len(i)//100):\n",
    "            X= []\n",
    "            Y= []\n",
    "            for elements in i[index*100:index*100+100]:\n",
    "                X.append(np.array([np.float32(elements[0]/10000),\n",
    "                                   np.float32(elements[1]/10000),\n",
    "                                   np.float32(elements[2]/10000),\n",
    "                                   np.float32(elements[3]/10000),\n",
    "                                   np.float32(elements[4]/10000),\n",
    "                                   np.float32(elements[5]/10000),\n",
    "                                   np.float32(elements[6]/10000),\n",
    "                                   np.float32(elements[7]/10000),\n",
    "                                   np.float32(elements[8]/10000),\n",
    "                                   np.float32(elements[9]/10000),\n",
    "                                  ]))\n",
    "                Y.append(np.array(np.int32(elements[10])))\n",
    "            client.append({\n",
    "                'x':np.array(X),\n",
    "                'y':np.array(Y)\n",
    "            })\n",
    "        federated_data.append(client)\n",
    "    return federated_data"
   ]
  },
  {
   "cell_type": "code",
   "execution_count": 22,
   "metadata": {},
   "outputs": [],
   "source": [
    "def poissonDistributiondata(clientData):\n",
    "    data = random.sample(clientData,2000)\n",
    "    return [data[:1000],data[1000:1500],data[1500:]]"
   ]
  },
  {
   "cell_type": "code",
   "execution_count": 23,
   "metadata": {},
   "outputs": [],
   "source": [
    "def reselectClientData():\n",
    "    c1_tra, c1_val, c1_test = poissonDistributiondata(CLIENT1)\n",
    "    c2_tra, c2_val, c2_test = poissonDistributiondata(CLIENT2)\n",
    "    c3_tra, c3_val, c3_test = poissonDistributiondata(CLIENT3)\n",
    "    c4_tra, c4_val, c4_test = poissonDistributiondata(CLIENT4)\n",
    "    c5_tra, c5_val, c5_test = poissonDistributiondata(CLIENT5)\n",
    "    c6_tra, c6_val, c6_test = poissonDistributiondata(CLIENT6)\n",
    "    c7_tra, c7_val, c7_test = poissonDistributiondata(CLIENT7)\n",
    "    c8_tra, c8_val, c8_test = poissonDistributiondata(CLIENT8)\n",
    "    c9_tra, c9_val, c9_test = poissonDistributiondata(CLIENT9)\n",
    "    c10_tra, c10_val, c10_test = poissonDistributiondata(CLIENT10)\n",
    "\n",
    "    train = [c1_tra,   c2_tra,  c3_tra, c4_tra,   c5_tra,  c6_tra, c7_tra,   c8_tra,  c9_tra, c10_tra]\n",
    "    val   = [c1_val,   c2_val,  c3_val, c4_val,   c5_val,  c6_val, c7_val,   c8_val,  c9_val, c10_val]\n",
    "    test  = [c1_test,  c2_test, c3_test, c4_test, c5_test, c6_test, c7_test, c8_test, c9_test, c10_test]\n",
    "\n",
    "    federated_train_data      =  get_batches(train)\n",
    "    federated_validation_data =  get_batches(val)\n",
    "    federated_test_data       =  get_batches(test)\n",
    "    \n",
    "    #count\n",
    "    ARR.append([Counter(list(map(lambda x: x[-1], c1_tra))), \n",
    "                Counter(list(map(lambda x: x[-1], c2_tra))), \n",
    "                Counter(list(map(lambda x: x[-1], c3_tra))),\n",
    "                Counter(list(map(lambda x: x[-1], c4_tra))), \n",
    "                Counter(list(map(lambda x: x[-1], c5_tra))), \n",
    "                Counter(list(map(lambda x: x[-1], c6_tra))),\n",
    "                Counter(list(map(lambda x: x[-1], c7_tra))), \n",
    "                Counter(list(map(lambda x: x[-1], c8_tra))), \n",
    "                Counter(list(map(lambda x: x[-1], c9_tra))),\n",
    "                Counter(list(map(lambda x: x[-1], c10_tra)))])\n",
    "    #mean\n",
    "    \n",
    "    return (federated_train_data,federated_validation_data,federated_test_data)"
   ]
  },
  {
   "cell_type": "code",
   "execution_count": 24,
   "metadata": {},
   "outputs": [],
   "source": [
    "ARR = []\n",
    "data_pkl = []\n",
    "for i in range(100):\n",
    "#     print(len(ARR))\n",
    "    data_pkl.append(reselectClientData())"
   ]
  },
  {
   "cell_type": "code",
   "execution_count": 25,
   "metadata": {},
   "outputs": [],
   "source": [
    "from pickle import dump\n",
    "dump(data_pkl,open('data.pkl','wb'))\n",
    "dump(ARR,open('arr.pkl','wb'))"
   ]
  }
 ],
 "metadata": {
  "kernelspec": {
   "display_name": "Python 3",
   "language": "python",
   "name": "python3"
  },
  "language_info": {
   "codemirror_mode": {
    "name": "ipython",
    "version": 3
   },
   "file_extension": ".py",
   "mimetype": "text/x-python",
   "name": "python",
   "nbconvert_exporter": "python",
   "pygments_lexer": "ipython3",
   "version": "3.8.5"
  }
 },
 "nbformat": 4,
 "nbformat_minor": 4
}
