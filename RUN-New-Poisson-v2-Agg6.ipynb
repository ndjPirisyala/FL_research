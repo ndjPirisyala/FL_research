{
 "cells": [
  {
   "cell_type": "code",
   "execution_count": 1,
   "metadata": {},
   "outputs": [],
   "source": [
    "import math\n",
    "import random \n",
    "import collections\n",
    "import numpy as np\n",
    "\n",
    "import nest_asyncio\n",
    "import tensorflow as tf\n",
    "import tensorflow_federated as tff\n",
    "import seaborn as sns\n",
    "\n",
    "from tensorflow.keras import activations\n",
    "from statistics import mean\n",
    "from collections import Counter\n",
    "\n",
    "from tqdm.notebook import tqdm as tqdm_notebook\n",
    "\n",
    "import seaborn as sns\n",
    "from matplotlib import pyplot as plt\n",
    "\n",
    "from math import sqrt\n",
    "\n",
    "sns.set_theme(style= 'whitegrid')\n",
    "nest_asyncio.apply()\n",
    "tff.backends.reference.set_reference_context()"
   ]
  },
  {
   "cell_type": "code",
   "execution_count": 2,
   "metadata": {},
   "outputs": [],
   "source": [
    "DIM = 10"
   ]
  },
  {
   "cell_type": "code",
   "execution_count": 3,
   "metadata": {},
   "outputs": [],
   "source": [
    "def get_mean(arr_history):\n",
    "    client1_means  = [i[0] for i in arr_history]\n",
    "    client2_means  = [i[1] for i in arr_history]\n",
    "    client3_means  = [i[2] for i in arr_history]\n",
    "    client4_means  = [i[3] for i in arr_history]\n",
    "    client5_means  = [i[4] for i in arr_history]\n",
    "    client6_means  = [i[5] for i in arr_history]\n",
    "    client7_means  = [i[6] for i in arr_history]\n",
    "    client8_means  = [i[7] for i in arr_history]\n",
    "    client9_means  = [i[8] for i in arr_history]\n",
    "    client10_means = [i[9] for i in arr_history]\n",
    "    \n",
    "    client1_means_vals_c1 = [0]\n",
    "    client1_means_vals_c2 = [0]    \n",
    "    client1_means_vals_c3 = [0]\n",
    "    client1_means_vals_c4 = [0]    \n",
    "    client1_means_vals_c5 = [0] \n",
    "    \n",
    "    client2_means_vals_c1 = [0]\n",
    "    client2_means_vals_c2 = [0]    \n",
    "    client2_means_vals_c3 = [0]\n",
    "    client2_means_vals_c4 = [0]    \n",
    "    client2_means_vals_c5 = [0] \n",
    "    \n",
    "    client3_means_vals_c1 = [0]\n",
    "    client3_means_vals_c2 = [0]    \n",
    "    client3_means_vals_c3 = [0]\n",
    "    client3_means_vals_c4 = [0]    \n",
    "    client3_means_vals_c5 = [0]\n",
    "    \n",
    "    client4_means_vals_c1 = [0]\n",
    "    client4_means_vals_c2 = [0]    \n",
    "    client4_means_vals_c3 = [0]\n",
    "    client4_means_vals_c4 = [0]    \n",
    "    client4_means_vals_c5 = [0] \n",
    "    \n",
    "    client5_means_vals_c1 = [0]\n",
    "    client5_means_vals_c2 = [0]    \n",
    "    client5_means_vals_c3 = [0]\n",
    "    client5_means_vals_c4 = [0]    \n",
    "    client5_means_vals_c5 = [0] \n",
    "    \n",
    "    client6_means_vals_c1 = [0]\n",
    "    client6_means_vals_c2 = [0]    \n",
    "    client6_means_vals_c3 = [0]\n",
    "    client6_means_vals_c4 = [0]    \n",
    "    client6_means_vals_c5 = [0]\n",
    "    \n",
    "    client7_means_vals_c1 = [0]\n",
    "    client7_means_vals_c2 = [0]    \n",
    "    client7_means_vals_c3 = [0]\n",
    "    client7_means_vals_c4 = [0]    \n",
    "    client7_means_vals_c5 = [0]\n",
    "    \n",
    "    client8_means_vals_c1 = [0]\n",
    "    client8_means_vals_c2 = [0]    \n",
    "    client8_means_vals_c3 = [0]\n",
    "    client8_means_vals_c4 = [0]    \n",
    "    client8_means_vals_c5 = [0]\n",
    "    \n",
    "    client9_means_vals_c1 = [0]\n",
    "    client9_means_vals_c2 = [0]    \n",
    "    client9_means_vals_c3 = [0]\n",
    "    client9_means_vals_c4 = [0]    \n",
    "    client9_means_vals_c5 = [0]\n",
    "    \n",
    "    client10_means_vals_c1 = [0]\n",
    "    client10_means_vals_c2 = [0]    \n",
    "    client10_means_vals_c3 = [0]\n",
    "    client10_means_vals_c4 = [0]    \n",
    "    client10_means_vals_c5 = [0]\n",
    "    \n",
    "    client1_means_vals_c1 = [i.get(0) for i in client1_means]\n",
    "    client1_means_vals_c2 = [i.get(1) for i in client1_means]    \n",
    "    client1_means_vals_c3 = [i.get(2) for i in client1_means]\n",
    "    client1_means_vals_c4 = [i.get(3) for i in client1_means]    \n",
    "    client1_means_vals_c5 = [i.get(4) for i in client1_means]    \n",
    "    \n",
    "    client2_means_vals_c1 = [i.get(0) for i in client2_means]\n",
    "    client2_means_vals_c2 = [i.get(1) for i in client2_means]    \n",
    "    client2_means_vals_c3 = [i.get(2) for i in client2_means]\n",
    "    client2_means_vals_c4 = [i.get(3) for i in client2_means]    \n",
    "    client1_means_vals_c5 = [i.get(4) for i in client2_means]    \n",
    "    \n",
    "    client3_means_vals_c1 = [i.get(0) for i in client3_means]\n",
    "    client3_means_vals_c2 = [i.get(1) for i in client3_means]    \n",
    "    client3_means_vals_c3 = [i.get(2) for i in client3_means]\n",
    "    client3_means_vals_c4 = [i.get(3) for i in client3_means]    \n",
    "    client3_means_vals_c5 = [i.get(4) for i in client3_means]    \n",
    "    \n",
    "    client4_means_vals_c1 = [i.get(0) for i in client4_means]\n",
    "    client4_means_vals_c2 = [i.get(1) for i in client4_means]    \n",
    "    client4_means_vals_c3 = [i.get(2) for i in client4_means]\n",
    "    client4_means_vals_c4 = [i.get(3) for i in client4_means]    \n",
    "    client4_means_vals_c5 = [i.get(4) for i in client4_means]    \n",
    "    \n",
    "    client5_means_vals_c1 = [i.get(0) for i in client5_means]\n",
    "    client5_means_vals_c2 = [i.get(1) for i in client5_means]    \n",
    "    client5_means_vals_c3 = [i.get(2) for i in client5_means]\n",
    "    client5_means_vals_c4 = [i.get(3) for i in client5_means]    \n",
    "    client5_means_vals_c5 = [i.get(4) for i in client5_means]    \n",
    "    \n",
    "    client6_means_vals_c1 = [i.get(0) for i in client6_means]\n",
    "    client6_means_vals_c2 = [i.get(1) for i in client6_means]    \n",
    "    client6_means_vals_c3 = [i.get(2) for i in client6_means]\n",
    "    client6_means_vals_c4 = [i.get(3) for i in client6_means]    \n",
    "    client6_means_vals_c5 = [i.get(4) for i in client6_means] \n",
    "    \n",
    "    client7_means_vals_c1 = [i.get(0) for i in client7_means]\n",
    "    client7_means_vals_c2 = [i.get(1) for i in client7_means]    \n",
    "    client7_means_vals_c3 = [i.get(2) for i in client7_means]\n",
    "    client7_means_vals_c4 = [i.get(3) for i in client7_means]    \n",
    "    client7_means_vals_c5 = [i.get(4) for i in client7_means]    \n",
    "    \n",
    "    client8_means_vals_c1 = [i.get(0) for i in client8_means]\n",
    "    client8_means_vals_c2 = [i.get(1) for i in client8_means]    \n",
    "    client8_means_vals_c3 = [i.get(2) for i in client8_means]\n",
    "    client8_means_vals_c4 = [i.get(3) for i in client8_means]    \n",
    "    client8_means_vals_c5 = [i.get(4) for i in client8_means]    \n",
    "    \n",
    "    client9_means_vals_c1 = [i.get(0) for i in client9_means]\n",
    "    client9_means_vals_c2 = [i.get(1) for i in client9_means]    \n",
    "    client9_means_vals_c3 = [i.get(2) for i in client9_means]\n",
    "    client9_means_vals_c4 = [i.get(3) for i in client9_means]    \n",
    "    client9_means_vals_c5 = [i.get(4) for i in client9_means] \n",
    "    \n",
    "    client10_means_vals_c1 = [i.get(0) for i in client10_means]\n",
    "    client10_means_vals_c2 = [i.get(1) for i in client10_means]    \n",
    "    client10_means_vals_c3 = [i.get(2) for i in client10_means]\n",
    "    client10_means_vals_c4 = [i.get(3) for i in client10_means]    \n",
    "    client10_means_vals_c5 = [i.get(4) for i in client10_means]    \n",
    "    \n",
    "    if not all(client1_means_vals_c1) : client1_means_vals_c1 = [0]\n",
    "    if not all(client1_means_vals_c2) : client1_means_vals_c2 = [0]   \n",
    "    if not all(client1_means_vals_c3) : client1_means_vals_c3 = [0] \n",
    "    if not all(client1_means_vals_c4) : client1_means_vals_c4 = [0]  \n",
    "    if not all(client1_means_vals_c5) : client1_means_vals_c5 = [0]     \n",
    "        \n",
    "    if not all(client2_means_vals_c1) : client2_means_vals_c1 = [0]\n",
    "    if not all(client2_means_vals_c2) : client2_means_vals_c2 = [0]   \n",
    "    if not all(client2_means_vals_c3) : client2_means_vals_c3 = [0] \n",
    "    if not all(client2_means_vals_c4) : client2_means_vals_c4 = [0]  \n",
    "    if not all(client2_means_vals_c5) : client2_means_vals_c5 = [0] \n",
    "        \n",
    "    if not all(client3_means_vals_c1) : client3_means_vals_c1 = [0]\n",
    "    if not all(client3_means_vals_c2) : client3_means_vals_c2 = [0]   \n",
    "    if not all(client3_means_vals_c3) : client3_means_vals_c3 = [0] \n",
    "    if not all(client3_means_vals_c4) : client3_means_vals_c4 = [0]  \n",
    "    if not all(client3_means_vals_c5) : client3_means_vals_c5 = [0] \n",
    "        \n",
    "    if not all(client4_means_vals_c1) : client4_means_vals_c1 = [0]\n",
    "    if not all(client4_means_vals_c2) : client4_means_vals_c2 = [0]   \n",
    "    if not all(client4_means_vals_c3) : client4_means_vals_c3 = [0] \n",
    "    if not all(client4_means_vals_c4) : client4_means_vals_c4 = [0]  \n",
    "    if not all(client4_means_vals_c5) : client4_means_vals_c5 = [0] \n",
    "        \n",
    "    if not all(client5_means_vals_c1) : client5_means_vals_c1 = [0]\n",
    "    if not all(client5_means_vals_c2) : client5_means_vals_c2 = [0]   \n",
    "    if not all(client5_means_vals_c3) : client5_means_vals_c3 = [0] \n",
    "    if not all(client5_means_vals_c4) : client5_means_vals_c4 = [0]  \n",
    "    if not all(client5_means_vals_c5) : client5_means_vals_c5 = [0] \n",
    "        \n",
    "    if not all(client6_means_vals_c1) : client6_means_vals_c1 = [0]\n",
    "    if not all(client6_means_vals_c2) : client6_means_vals_c2 = [0]   \n",
    "    if not all(client6_means_vals_c3) : client6_means_vals_c3 = [0] \n",
    "    if not all(client6_means_vals_c4) : client6_means_vals_c4 = [0]  \n",
    "    if not all(client6_means_vals_c5) : client6_means_vals_c5 = [0] \n",
    "        \n",
    "    if not all(client7_means_vals_c1) : client7_means_vals_c1 = [0]\n",
    "    if not all(client7_means_vals_c2) : client7_means_vals_c2 = [0]   \n",
    "    if not all(client7_means_vals_c3) : client7_means_vals_c3 = [0] \n",
    "    if not all(client7_means_vals_c4) : client7_means_vals_c4 = [0]  \n",
    "    if not all(client7_means_vals_c5) : client7_means_vals_c5 = [0] \n",
    "        \n",
    "    if not all(client8_means_vals_c1) : client8_means_vals_c1 = [0]\n",
    "    if not all(client8_means_vals_c2) : client8_means_vals_c2 = [0]   \n",
    "    if not all(client8_means_vals_c3) : client8_means_vals_c3 = [0] \n",
    "    if not all(client8_means_vals_c4) : client8_means_vals_c4 = [0]  \n",
    "    if not all(client8_means_vals_c5) : client8_means_vals_c5 = [0] \n",
    "        \n",
    "    if not all(client9_means_vals_c1) : client9_means_vals_c1 = [0]\n",
    "    if not all(client9_means_vals_c2) : client9_means_vals_c2 = [0]   \n",
    "    if not all(client9_means_vals_c3) : client9_means_vals_c3 = [0] \n",
    "    if not all(client9_means_vals_c4) : client9_means_vals_c4 = [0]  \n",
    "    if not all(client9_means_vals_c5) : client9_means_vals_c5 = [0] \n",
    "        \n",
    "    if not all(client10_means_vals_c1) : client10_means_vals_c1 = [0]\n",
    "    if not all(client10_means_vals_c2) : client10_means_vals_c2 = [0]   \n",
    "    if not all(client10_means_vals_c3) : client10_means_vals_c3 = [0] \n",
    "    if not all(client10_means_vals_c4) : client10_means_vals_c4 = [0]  \n",
    "    if not all(client10_means_vals_c5) : client10_means_vals_c5 = [0] \n",
    "    \n",
    "    return {\n",
    "        'client1':{\n",
    "            0: mean(client1_means_vals_c1),\n",
    "            1: mean(client1_means_vals_c2),\n",
    "            2: mean(client1_means_vals_c3),\n",
    "            3: mean(client1_means_vals_c4),\n",
    "            4: mean(client1_means_vals_c5)\n",
    "        },\n",
    "        'client2':{\n",
    "            0: mean(client2_means_vals_c1),\n",
    "            1: mean(client2_means_vals_c2),\n",
    "            2: mean(client2_means_vals_c3),\n",
    "            3: mean(client2_means_vals_c4),\n",
    "            4: mean(client2_means_vals_c5)\n",
    "        },\n",
    "        'client3':{\n",
    "            0: mean(client3_means_vals_c1),\n",
    "            1: mean(client3_means_vals_c2),\n",
    "            2: mean(client3_means_vals_c3),\n",
    "            3: mean(client3_means_vals_c4),\n",
    "            4: mean(client3_means_vals_c5)\n",
    "        },\n",
    "         'client4':{\n",
    "            0: mean(client4_means_vals_c1),\n",
    "            1: mean(client4_means_vals_c2),\n",
    "            2: mean(client4_means_vals_c3),\n",
    "            3: mean(client4_means_vals_c4),\n",
    "            4: mean(client4_means_vals_c5)\n",
    "        },\n",
    "        'client5':{\n",
    "            0: mean(client5_means_vals_c1),\n",
    "            1: mean(client5_means_vals_c2),\n",
    "            2: mean(client5_means_vals_c3),\n",
    "            3: mean(client5_means_vals_c4),\n",
    "            4: mean(client5_means_vals_c5)\n",
    "        },\n",
    "        'client6':{\n",
    "            0: mean(client6_means_vals_c1),\n",
    "            1: mean(client6_means_vals_c2),\n",
    "            2: mean(client6_means_vals_c3),\n",
    "            3: mean(client6_means_vals_c4),\n",
    "            4: mean(client6_means_vals_c5)\n",
    "        },\n",
    "         'client7':{\n",
    "            0: mean(client7_means_vals_c1),\n",
    "            1: mean(client7_means_vals_c2),\n",
    "            2: mean(client7_means_vals_c3),\n",
    "            3: mean(client7_means_vals_c4),\n",
    "            4: mean(client7_means_vals_c5)\n",
    "        },\n",
    "        'client8':{\n",
    "            0: mean(client8_means_vals_c1),\n",
    "            1: mean(client8_means_vals_c2),\n",
    "            2: mean(client8_means_vals_c3),\n",
    "            3: mean(client8_means_vals_c4),\n",
    "            4: mean(client8_means_vals_c5)\n",
    "        },\n",
    "        'client9':{\n",
    "            0: mean(client9_means_vals_c1),\n",
    "            1: mean(client9_means_vals_c2),\n",
    "            2: mean(client9_means_vals_c3),\n",
    "            3: mean(client9_means_vals_c4),\n",
    "            4: mean(client9_means_vals_c5)\n",
    "        },\n",
    "        'client10':{\n",
    "            0: mean(client10_means_vals_c1),\n",
    "            1: mean(client10_means_vals_c2),\n",
    "            2: mean(client10_means_vals_c3),\n",
    "            3: mean(client10_means_vals_c4),\n",
    "            4: mean(client10_means_vals_c5)\n",
    "        }\n",
    "    }"
   ]
  },
  {
   "cell_type": "markdown",
   "metadata": {},
   "source": [
    "#### Custom mean aggregation function goes here"
   ]
  },
  {
   "cell_type": "code",
   "execution_count": 4,
   "metadata": {},
   "outputs": [],
   "source": [
    "def AGG_FUNCTION6():\n",
    "    return [\n",
    "        np.float32(random.uniform(1.1, 3.61)),\n",
    "        np.float32(random.uniform(1.1, 3.61)),\n",
    "        np.float32(random.uniform(1.1, 3.61)),\n",
    "        np.float32(random.uniform(1.1, 3.61)),\n",
    "        np.float32(random.uniform(1.1, 3.61)),\n",
    "        np.float32(random.uniform(1.1, 3.61)),\n",
    "        np.float32(random.uniform(1.1, 3.61)),\n",
    "        np.float32(random.uniform(1.1, 3.61)),\n",
    "        np.float32(random.uniform(1.1, 3.61)),\n",
    "        np.float32(random.uniform(1.1, 3.61)),\n",
    "    ]"
   ]
  },
  {
   "cell_type": "markdown",
   "metadata": {},
   "source": [
    "### Federated Data Types [Client and Server]"
   ]
  },
  {
   "cell_type": "code",
   "execution_count": 5,
   "metadata": {},
   "outputs": [],
   "source": [
    "BATCH_SPEC = collections.OrderedDict(x=tf.TensorSpec(shape=[None, 10], dtype=tf.float32),\n",
    "                                     y=tf.TensorSpec(shape=[None], dtype=tf.int32))\n",
    "BATCH_TYPE = tff.to_type(BATCH_SPEC)\n",
    "\n",
    "\n",
    "MODEL_SPEC = collections.OrderedDict(weights=tf.TensorSpec(shape=[10, DIM], dtype=tf.float32),\n",
    "                                     bias=tf.TensorSpec(shape=[DIM], dtype=tf.float32))\n",
    "MODEL_TYPE = tff.to_type(MODEL_SPEC)\n",
    "\n",
    "\n",
    "WEIGHT_SPEC = tff.TensorType(dtype=tf.float32, shape=None)\n",
    "WEIGHT_TYPE = tff.to_type(WEIGHT_SPEC)\n",
    "WEIGHT_DATA_TYPE = tff.FederatedType(WEIGHT_TYPE, tff.CLIENTS)"
   ]
  },
  {
   "cell_type": "markdown",
   "metadata": {},
   "source": [
    "### Federated Client"
   ]
  },
  {
   "cell_type": "code",
   "execution_count": 6,
   "metadata": {},
   "outputs": [],
   "source": [
    "@tf.function\n",
    "def forward_pass(model, batch):\n",
    "    predicted_y = tf.nn.softmax(tf.matmul(batch['x'], model['weights']) + model['bias'])\n",
    "    return -tf.reduce_mean(tf.reduce_sum(tf.one_hot(batch['y'], DIM) * tf.math.log(predicted_y), axis=[1]))\n",
    "\n",
    "@tff.tf_computation(MODEL_TYPE, BATCH_TYPE)\n",
    "def batch_loss(model, batch):\n",
    "    return forward_pass(model, batch)"
   ]
  },
  {
   "cell_type": "code",
   "execution_count": 7,
   "metadata": {},
   "outputs": [],
   "source": [
    "@tff.tf_computation(MODEL_TYPE, BATCH_TYPE, tf.float32)\n",
    "def batch_train(initial_model, batch, learning_rate):\n",
    "    model_vars = collections.OrderedDict([\n",
    "        (name, tf.Variable(name=name, initial_value=value))\n",
    "        for name, value in initial_model.items()\n",
    "    ])\n",
    "    optimizer = tf.keras.optimizers.SGD(learning_rate)\n",
    "    \n",
    "    @tf.function\n",
    "    def _train_on_batch(model_vars, batch):\n",
    "        with tf.GradientTape() as tape:\n",
    "            loss = forward_pass(model_vars, batch)\n",
    "        grads = tape.gradient(loss, model_vars)\n",
    "        optimizer.apply_gradients(zip(tf.nest.flatten(grads), tf.nest.flatten(model_vars)))\n",
    "        return model_vars\n",
    "  \n",
    "    return _train_on_batch(model_vars, batch)"
   ]
  },
  {
   "cell_type": "code",
   "execution_count": 8,
   "metadata": {},
   "outputs": [],
   "source": [
    "LOCAL_DATA_TYPE = tff.SequenceType(BATCH_TYPE)\n",
    "\n",
    "@tff.federated_computation(MODEL_TYPE, tf.float32, LOCAL_DATA_TYPE)\n",
    "def local_train(initial_model, learning_rate, all_batches):\n",
    "    @tff.federated_computation(MODEL_TYPE, BATCH_TYPE)\n",
    "    def batch_fn(model, batch):\n",
    "        return batch_train(model, batch, learning_rate)\n",
    "    return tff.sequence_reduce(all_batches, initial_model, batch_fn)"
   ]
  },
  {
   "cell_type": "code",
   "execution_count": 9,
   "metadata": {},
   "outputs": [],
   "source": [
    "@tff.federated_computation(MODEL_TYPE, LOCAL_DATA_TYPE)\n",
    "def local_eval(model, all_batches):\n",
    "    return tff.sequence_sum(tff.sequence_map(tff.federated_computation(lambda b: batch_loss(model, b), BATCH_TYPE),all_batches))"
   ]
  },
  {
   "cell_type": "markdown",
   "metadata": {},
   "source": [
    "### Federated Server"
   ]
  },
  {
   "cell_type": "code",
   "execution_count": 10,
   "metadata": {},
   "outputs": [],
   "source": [
    "SERVER_MODEL_TYPE = tff.type_at_server(MODEL_TYPE)\n",
    "CLIENT_DATA_TYPE = tff.type_at_clients(LOCAL_DATA_TYPE)"
   ]
  },
  {
   "cell_type": "code",
   "execution_count": 11,
   "metadata": {},
   "outputs": [],
   "source": [
    "@tff.federated_computation(SERVER_MODEL_TYPE, CLIENT_DATA_TYPE)\n",
    "def federated_eval(model, data):\n",
    "    return tff.federated_mean(tff.federated_map(local_eval, [tff.federated_broadcast(model), data]))"
   ]
  },
  {
   "cell_type": "markdown",
   "metadata": {},
   "source": [
    "SERVER_FLOAT_TYPE"
   ]
  },
  {
   "cell_type": "code",
   "execution_count": 12,
   "metadata": {},
   "outputs": [],
   "source": [
    "SERVER_FLOAT_TYPE = tff.type_at_server(tf.float32)"
   ]
  },
  {
   "cell_type": "markdown",
   "metadata": {},
   "source": [
    "#### With custom weighting factors"
   ]
  },
  {
   "cell_type": "code",
   "execution_count": 13,
   "metadata": {},
   "outputs": [],
   "source": [
    "@tff.federated_computation(SERVER_MODEL_TYPE, SERVER_FLOAT_TYPE,CLIENT_DATA_TYPE, WEIGHT_DATA_TYPE)\n",
    "def federated_train(model, learning_rate, data, weights):\n",
    "    return tff.federated_mean(\n",
    "          tff.federated_map(local_train, [\n",
    "          tff.federated_broadcast(model),\n",
    "          tff.federated_broadcast(learning_rate), data]), weights)\n",
    "\n",
    "def modelR(weights, biases, data):\n",
    "#     print(weights)\n",
    "#     print(biases)\n",
    "    count = 0\n",
    "    avg = 0\n",
    "    for j in range(len(federated_test_data[0])):\n",
    "        l = [np.where(i==max(i))[0][0] for i in activations.sigmoid(np.matmul(federated_test_data[0][j].get('x'), model.get('weights'))).numpy()]\n",
    "        Y = federated_test_data[0][j].get('y')\n",
    "        \n",
    "        for i in range(len(Y)):\n",
    "            avg+=1\n",
    "            if l[i] == Y[i]:\n",
    "                count+= 1\n",
    "                \n",
    "    return count/avg"
   ]
  },
  {
   "cell_type": "markdown",
   "metadata": {},
   "source": [
    "#### Without custom weighting factors"
   ]
  },
  {
   "cell_type": "code",
   "execution_count": 14,
   "metadata": {},
   "outputs": [],
   "source": [
    "@tff.federated_computation(SERVER_MODEL_TYPE, SERVER_FLOAT_TYPE,CLIENT_DATA_TYPE)\n",
    "def federated_train_2(model, learning_rate, data):\n",
    "    return tff.federated_mean(\n",
    "          tff.federated_map(local_train, [\n",
    "          tff.federated_broadcast(model),\n",
    "          tff.federated_broadcast(learning_rate), data]))"
   ]
  },
  {
   "cell_type": "code",
   "execution_count": 15,
   "metadata": {},
   "outputs": [],
   "source": [
    "def initial_model():\n",
    "    return collections.OrderedDict(\n",
    "    weights=np.zeros([10, 10], dtype=np.float32),\n",
    "    bias=np.zeros([10], dtype=np.float32))"
   ]
  },
  {
   "cell_type": "code",
   "execution_count": 16,
   "metadata": {},
   "outputs": [],
   "source": [
    "from pickle import load\n",
    "DATA = load(open('data.pkl','rb'))\n",
    "ARR = load(open('arr.pkl','rb'))\n",
    "\n",
    "accuracy = 0\n",
    "\n",
    "modelW6 = initial_model()\n",
    "\n",
    "learning_rate = 0.1\n",
    "count = 0\n",
    "\n",
    "accuracy_list_with_wights6 = []\n",
    "\n",
    "\n",
    "for i in range(100):\n",
    "    \n",
    "    federated_train_data,federated_validation_data,federated_test_data = DATA[i]\n",
    "    \n",
    "    \n",
    "    modelW6 = federated_train(modelW6, learning_rate, federated_train_data,AGG_FUNCTION6())\n",
    "    lossW6 = federated_eval(modelW6, federated_train_data)\n",
    "#     accuracyW6 = modelR(modelW6.get('weights'), modelW6.get('bias'), federated_test_data)\n",
    "    accuracy_list_with_wights6.append(lossW6)\n",
    "    \n",
    "    learning_rate = learning_rate * 0.4\n",
    "    count+=1"
   ]
  },
  {
   "cell_type": "code",
   "execution_count": 17,
   "metadata": {},
   "outputs": [
    {
     "data": {
      "image/png": "[encoded data removed]",
      "text/plain": [
       "<Figure size 576x432 with 1 Axes>"
      ]
     },
     "metadata": {},
     "output_type": "display_data"
    }
   ],
   "source": [
    "fig = plt.figure(num=None, figsize=(8, 6))\n",
    "plt.plot(range(1,len(accuracy_list_with_wights6)),accuracy_list_with_wights6[1:],label=\"random\")\n",
    "\n",
    "plt.legend(loc=\"lower right\")\n",
    "plt.ylabel('loss')\n",
    "plt.xlabel('rounds')\n",
    "plt.show()"
   ]
  },
  {
   "cell_type": "code",
   "execution_count": 18,
   "metadata": {},
   "outputs": [],
   "source": [
    "accuracy_list_with_wights6F = list(map(lambda x:x , accuracy_list_with_wights6))"
   ]
  },
  {
   "cell_type": "code",
   "execution_count": 19,
   "metadata": {},
   "outputs": [
    {
     "data": {
      "image/png": "[encoded data removed]",
      "text/plain": [
       "<Figure size 576x432 with 1 Axes>"
      ]
     },
     "metadata": {},
     "output_type": "display_data"
    }
   ],
   "source": [
    "from scipy import interpolate\n",
    "\n",
    "RANGE = range(len(accuracy_list_with_wights6F[1:]))\n",
    "\n",
    "fig = plt.figure(num=None, figsize=(8, 6))\n",
    "plt.plot(range(1,len(accuracy_list_with_wights6F)),interpolate.UnivariateSpline(RANGE, accuracy_list_with_wights6F[1:])(RANGE),label=\"random\")\n",
    "\n",
    "plt.legend(loc=\"lower right\")\n",
    "plt.ylabel('loss')\n",
    "plt.xlabel('rounds')\n",
    "plt.show()"
   ]
  },
  {
   "cell_type": "code",
   "execution_count": 20,
   "metadata": {},
   "outputs": [],
   "source": [
    "from pickle import dump\n",
    "dump(accuracy_list_with_wights6,open('accuracy_list_with_wights6','wb'))"
   ]
  },
  {
   "cell_type": "code",
   "execution_count": null,
   "metadata": {},
   "outputs": [],
   "source": []
  }
 ],
 "metadata": {
  "kernelspec": {
   "display_name": "Python 3",
   "language": "python",
   "name": "python3"
  },
  "language_info": {
   "codemirror_mode": {
    "name": "ipython",
    "version": 3
   },
   "file_extension": ".py",
   "mimetype": "text/x-python",
   "name": "python",
   "nbconvert_exporter": "python",
   "pygments_lexer": "ipython3",
   "version": "3.8.5"
  }
 },
 "nbformat": 4,
 "nbformat_minor": 4
}
