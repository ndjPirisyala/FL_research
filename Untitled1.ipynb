{
 "cells": [
  {
   "cell_type": "code",
   "execution_count": 1,
   "metadata": {},
   "outputs": [
    {
     "name": "stdout",
     "output_type": "stream",
     "text": [
      "20_clients  EXPERIMENTS\\ -\\ Sheet3.csv\t   NLP\\ Tute\\ #1.ipynb\tnltk_data\r\n",
      "30_clients  EXPERIMENTS\\ -\\ Test\\ 1\\ .csv  Untitled.ipynb\tnohup.out\r\n",
      "50_clients  FL_Test-2-Copy1.ipynb\t   Untitled1.ipynb\tresult.txt\r\n",
      "70_clients  FL_Test-2.ipynb\t\t   anaconda3\r\n",
      "90_clients  FL_Test.ipynb\t\t   data\r\n"
     ]
    }
   ],
   "source": [
    "!dir"
   ]
  }
 ],
 "metadata": {
  "kernelspec": {
   "display_name": "Python 3",
   "language": "python",
   "name": "python3"
  },
  "language_info": {
   "codemirror_mode": {
    "name": "ipython",
    "version": 3
   },
   "file_extension": ".py",
   "mimetype": "text/x-python",
   "name": "python",
   "nbconvert_exporter": "python",
   "pygments_lexer": "ipython3",
   "version": "3.8.3"
  }
 },
 "nbformat": 4,
 "nbformat_minor": 4
}
