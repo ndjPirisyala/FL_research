{
 "cells": [
  {
   "cell_type": "code",
   "execution_count": 1,
   "metadata": {},
   "outputs": [],
   "source": [
    "import math\n",
    "import random \n",
    "import collections\n",
    "import numpy as np\n",
    "\n",
    "import nest_asyncio\n",
    "import tensorflow as tf\n",
    "import tensorflow_federated as tff\n",
    "import seaborn as sns\n",
    "\n",
    "from tensorflow.keras import activations\n",
    "from statistics import mean\n",
    "from collections import Counter\n",
    "\n",
    "from tqdm.notebook import tqdm as tqdm_notebook\n",
    "\n",
    "import seaborn as sns\n",
    "from matplotlib import pyplot as plt\n",
    "\n",
    "from math import sqrt\n",
    "\n",
    "sns.set_theme(style= 'whitegrid')\n",
    "nest_asyncio.apply()\n",
    "tff.backends.reference.set_reference_context()"
   ]
  },
  {
   "cell_type": "markdown",
   "metadata": {},
   "source": [
    "### Data augmentation"
   ]
  },
  {
   "cell_type": "code",
   "execution_count": 2,
   "metadata": {},
   "outputs": [],
   "source": [
    "from random import randint, choice, shuffle\n",
    "from math import ceil\n",
    "from itertools import chain"
   ]
  },
  {
   "cell_type": "code",
   "execution_count": 3,
   "metadata": {},
   "outputs": [],
   "source": [
    "feature_space = {\n",
    "'class1':[ range(randint(0, 15),randint(1000, 2000)),\n",
    "              range(randint(10, 25),randint(2000, 3000)),\n",
    "              range(randint(20, 35),randint(3000, 4000)),\n",
    "              range(randint(30, 45),randint(4000, 5000)),\n",
    "              range(randint(40, 55),randint(5000, 6000)),\n",
    "              range(randint(50, 65),randint(6000, 7000)),\n",
    "              range(randint(60, 75),randint(7000, 8000)),\n",
    "              range(randint(70, 85),randint(8000, 9000)),\n",
    "              range(randint(80, 95),randint(9000, 10000)),\n",
    "              range(randint(90, 105),randint(10000, 11000))],\n",
    "    \n",
    " 'class2':[range(randint(10, 25),randint(1500, 2500)),\n",
    "              range(randint(20, 35),randint(2500, 3500)),\n",
    "              range(randint(30, 45),randint(3500, 4500)),\n",
    "              range(randint(40, 55),randint(4500, 5500)),\n",
    "              range(randint(50, 65),randint(5500, 6500)),\n",
    "              range(randint(60, 75),randint(6500, 7500)),\n",
    "              range(randint(70, 85),randint(7500, 8500)),\n",
    "              range(randint(80, 95),randint(8500, 9500)),\n",
    "              range(randint(90, 105),randint(9500, 10500)),\n",
    "              range(randint(100, 115),randint(10500, 11500))],\n",
    "    \n",
    "    \n",
    "'class3':[range(randint(20, 35),randint(2000, 3000)),\n",
    "              range(randint(30, 45),randint(3000, 4000)),\n",
    "              range(randint(40, 55),randint(4000, 5000)),\n",
    "              range(randint(50, 65),randint(5000, 6000)),\n",
    "              range(randint(60, 75),randint(6000, 7000)),\n",
    "              range(randint(70, 85),randint(7000, 8000)),\n",
    "              range(randint(80, 95),randint(8000, 90000)),\n",
    "              range(randint(90, 105),randint(9000, 10000)),\n",
    "              range(randint(100, 115),randint(10000, 11000)),\n",
    "              range(randint(110, 125),randint(11000, 12000))],\n",
    "    \n",
    "'class4':[range(randint(30, 45),randint(2500, 3500)),\n",
    "              range(randint(40, 55),randint(3500, 4500)),\n",
    "              range(randint(50, 65),randint(4500, 5500)),\n",
    "              range(randint(60, 75),randint(5500, 6500)),\n",
    "              range(randint(70, 85),randint(6500, 7500)),\n",
    "              range(randint(80, 95),randint(7500, 8500)),\n",
    "              range(randint(90, 105),randint(8500, 9500)),\n",
    "              range(randint(100, 115),randint(9500, 10500)),\n",
    "              range(randint(110, 125),randint(10500, 11500)),\n",
    "              range(randint(120, 135),randint(11500, 12500))],\n",
    "    \n",
    "'class5':[range(randint(40, 55),randint(3000, 4000)),\n",
    "              range(randint(50, 65),randint(4000, 5000)),\n",
    "              range(randint(60, 75),randint(5000, 6000)),\n",
    "              range(randint(70, 85),randint(6000, 7000)),\n",
    "              range(randint(80, 95),randint(7000, 8000)),\n",
    "              range(randint(90, 105),randint(8000, 9000)),\n",
    "              range(randint(100, 115),randint(9000, 10000)),\n",
    "              range(randint(110, 125),randint(10000, 11000)),\n",
    "              range(randint(120, 135),randint(11000, 12000)),\n",
    "              range(randint(130, 145),randint(12000, 13000))],\n",
    "    \n",
    "'class6':[range(randint(50, 65),randint(3500, 4500)),\n",
    "              range(randint(60, 75),randint(4500, 5500)),\n",
    "              range(randint(70, 85),randint(5500, 6500)),\n",
    "              range(randint(80, 95),randint(6500, 7500)),\n",
    "              range(randint(90, 105),randint(7500, 8500)),\n",
    "              range(randint(100, 115),randint(8500, 9500)),\n",
    "              range(randint(110, 125),randint(9500, 10500)),\n",
    "              range(randint(120, 135),randint(10500, 11500)),\n",
    "              range(randint(130, 145),randint(11500, 12500)),\n",
    "              range(randint(140, 155),randint(12500, 13500))],\n",
    "    \n",
    "'class7':[range(randint(60, 75),randint(4000, 5000)),\n",
    "              range(randint(70, 85),randint(5000, 6000)),\n",
    "              range(randint(80, 95),randint(6000, 7000)),\n",
    "              range(randint(90, 105),randint(7000, 8000)),\n",
    "              range(randint(100, 115),randint(8000, 9000)),\n",
    "              range(randint(110, 125),randint(9000, 10000)),\n",
    "              range(randint(120, 135),randint(10000, 11000)),\n",
    "              range(randint(130, 145),randint(11000, 12000)),\n",
    "              range(randint(140, 155),randint(12000, 13000)),\n",
    "              range(randint(150, 165),randint(13000, 14000))],\n",
    "    \n",
    "'class8':[range(randint(70, 85),randint(4500, 5500)),\n",
    "              range(randint(80, 95),randint(5500, 6500)),\n",
    "              range(randint(90, 105),randint(6500, 7500)),\n",
    "              range(randint(100, 115),randint(7500, 8500)),\n",
    "              range(randint(110, 125),randint(8500, 9500)),\n",
    "              range(randint(120, 135),randint(9500, 10500)),\n",
    "              range(randint(130, 145),randint(10500, 11500)),\n",
    "              range(randint(140, 155),randint(11500, 12500)),\n",
    "              range(randint(150, 165),randint(12500, 13500)),\n",
    "              range(randint(160, 175),randint(13500, 14500))],\n",
    "    \n",
    "'class9':[range(randint(80, 95),randint(5000, 6000)),\n",
    "              range(randint(90, 105),randint(6000, 7000)),\n",
    "              range(randint(100, 115),randint(7000, 8000)),\n",
    "              range(randint(110, 125),randint(8000, 9000)),\n",
    "              range(randint(120, 135),randint(9000, 10000)),\n",
    "              range(randint(130, 145),randint(10000, 11000)),\n",
    "              range(randint(140, 155),randint(11000, 12000)),\n",
    "              range(randint(150, 165),randint(12000, 13000)),\n",
    "              range(randint(160, 175),randint(13000, 14000)),\n",
    "              range(randint(170, 185),randint(14000, 15000))],\n",
    "    \n",
    "'class10':[range(randint(90, 105),randint(5500, 6500)),\n",
    "              range(randint(100, 115),randint(6500, 7500)),\n",
    "              range(randint(110, 125),randint(7500, 8500)),\n",
    "              range(randint(120, 135),randint(8500, 9500)),\n",
    "              range(randint(130, 145),randint(9500, 10500)),\n",
    "              range(randint(140, 155),randint(10500, 11500)),\n",
    "              range(randint(150, 165),randint(11500, 12500)),\n",
    "              range(randint(160, 175),randint(12500, 13500)),\n",
    "              range(randint(170, 185),randint(13500, 14500)),\n",
    "              range(randint(180, 195),randint(14500, 15500))],\n",
    "    \n",
    "}\n",
    "\n",
    "def datapicker(fs, numodpoints):\n",
    "    data = {}\n",
    "    for i in fs:\n",
    "        temp = []\n",
    "        for ii in range(numodpoints):\n",
    "            point = []\n",
    "            for iii in fs.get(i):\n",
    "                point.append(choice(iii))\n",
    "            temp.append(point)\n",
    "        data[i]=temp\n",
    "    return data"
   ]
  },
  {
   "cell_type": "code",
   "execution_count": 4,
   "metadata": {},
   "outputs": [],
   "source": [
    "DATAPOINTS = 10000\n",
    "data = datapicker(feature_space,DATAPOINTS)"
   ]
  },
  {
   "cell_type": "code",
   "execution_count": 5,
   "metadata": {},
   "outputs": [],
   "source": [
    "#Normalize columns of pandas data frame\n",
    "# data = data.iloc[:,:].apply(lambda x: x/x.max(), axis=0)"
   ]
  },
  {
   "cell_type": "code",
   "execution_count": 6,
   "metadata": {},
   "outputs": [],
   "source": [
    "# data.head(1)"
   ]
  },
  {
   "cell_type": "code",
   "execution_count": 7,
   "metadata": {},
   "outputs": [],
   "source": [
    "def convert(lst,cls):\n",
    "    LIST = lst[:]\n",
    "    LIST.append(int(cls[-1:]))\n",
    "    return LIST"
   ]
  },
  {
   "cell_type": "code",
   "execution_count": 8,
   "metadata": {},
   "outputs": [],
   "source": [
    "def newDATA(data):\n",
    "    return(list(map(lambda x:x+[1],data.get('class1'))),\n",
    "           list(map(lambda x:x+[2],data.get('class2'))),\n",
    "           list(map(lambda x:x+[3],data.get('class3'))),\n",
    "           list(map(lambda x:x+[4],data.get('class4'))),\n",
    "           list(map(lambda x:x+[5],data.get('class5'))),\n",
    "           list(map(lambda x:x+[6],data.get('class6'))),\n",
    "           list(map(lambda x:x+[7],data.get('class7'))),\n",
    "           list(map(lambda x:x+[8],data.get('class8'))),\n",
    "           list(map(lambda x:x+[9],data.get('class9'))),\n",
    "           list(map(lambda x:x+[10],data.get('class10')))\n",
    "          )"
   ]
  },
  {
   "cell_type": "code",
   "execution_count": 9,
   "metadata": {},
   "outputs": [],
   "source": [
    "from random import randint\n",
    "from math import ceil"
   ]
  },
  {
   "cell_type": "code",
   "execution_count": 10,
   "metadata": {},
   "outputs": [],
   "source": [
    "def createClientsDATA(data):\n",
    "    class1 = data.get('class1')\n",
    "    class2 = data.get('class2')\n",
    "    class3 = data.get('class3')\n",
    "    class4 = data.get('class4')\n",
    "    class5 = data.get('class5')\n",
    "    class6 = data.get('class6')\n",
    "    class7 = data.get('class7')\n",
    "    class8 = data.get('class8')\n",
    "    class9 = data.get('class9')\n",
    "    class10 = data.get('class10')\n",
    "\n",
    "\n",
    "    class1_1, class1_2, class1_3, class1_4, class1_5, class1_6, class1_7, class1_8, class1_9, class1_10 = [class1[:6400],class1[6400:6800],class1[6800:7200],class1[7200:7600],class1[7600:8000],class1[8000:8400],class1[8400:8800],class1[8800:9200],class1[9200:9600], class1[9600:]]\n",
    "    class2_1, class2_2, class2_3, class2_4, class2_5, class2_6, class2_7, class2_8, class2_9, class2_10 = [class2[:6400],class2[6400:6800],class2[6800:7200],class2[7200:7600],class2[7600:8000],class2[8000:8400],class2[8400:8800],class2[8800:9200],class2[9200:9600], class2[9600:]]\n",
    "    class3_1, class3_2, class3_3, class3_4, class3_5, class3_6, class3_7, class3_8, class3_9, class3_10 = [class3[:6400],class3[6400:6800],class3[6800:7200],class3[7200:7600],class3[7600:8000],class3[8000:8400],class3[8400:8800],class3[8800:9200],class3[9200:9600], class3[9600:]]\n",
    "    class4_1, class4_2, class4_3, class4_4, class4_5, class4_6, class4_7, class4_8, class4_9, class4_10 = [class4[:6400],class4[6400:6800],class4[6800:7200],class4[7200:7600],class4[7600:8000],class4[8000:8400],class4[8400:8800],class4[8800:9200],class4[9200:9600], class4[9600:]]\n",
    "    class5_1, class5_2, class5_3, class5_4, class5_5, class5_6, class5_7, class5_8, class5_9, class5_10 = [class5[:6400],class5[6400:6800],class5[6800:7200],class5[7200:7600],class5[7600:8000],class5[8000:8400],class5[8400:8800],class5[8800:9200],class5[9200:9600], class5[9600:]]\n",
    "    class6_1, class6_2, class6_3, class6_4, class6_5, class6_6, class6_7, class6_8, class6_9, class6_10 = [class6[:6400],class6[6400:6800],class6[6800:7200],class6[7200:7600],class6[7600:8000],class6[8000:8400],class6[8400:8800],class6[8800:9200],class6[9200:9600], class6[9600:]]\n",
    "    class7_1, class7_2, class7_3, class7_4, class7_5, class7_6, class7_7, class7_8, class7_9, class7_10 = [class7[:6400],class7[6400:6800],class7[6800:7200],class7[7200:7600],class7[7600:8000],class7[8000:8400],class7[8400:8800],class7[8800:9200],class7[9200:9600], class7[9600:]]\n",
    "    class8_1, class8_2, class8_3, class8_4, class8_5, class8_6, class8_7, class8_8, class8_9, class8_10 = [class8[:6400],class8[6400:6800],class8[6800:7200],class8[7200:7600],class8[7600:8000],class8[8000:8400],class8[8400:8800],class8[8800:9200],class8[9200:9600], class8[9600:]]\n",
    "    class9_1, class9_2, class9_3, class9_4, class9_5, class9_6, class9_7, class9_8, class9_9, class9_10 = [class9[:6400],class9[6400:6800],class9[6800:7200],class9[7200:7600],class9[7600:8000],class9[8000:8400],class9[8400:8800],class9[8800:9200],class9[9200:9600], class9[9600:]]\n",
    "    class10_1, class10_2, class10_3, class10_4, class10_5, class10_6, class10_7, class10_8, class10_9, class10_10 = [class10[:6400],class10[6400:6800],class10[6800:7200],class10[7200:7600],class10[7600:8000],class10[8000:8400],class10[8400:8800],class10[8800:9200],class10[9200:9600], class10[9600:]]\n",
    "    \n",
    "    client1  = list(map(lambda x:x+[1],class1_1)) + list(map(lambda x:x+[2],class2_2)) + list(map(lambda x:x+[3],class3_2)) + list(map(lambda x:x+[4],class4_2)) + list(map(lambda x:x+[5],class5_2)) + list(map(lambda x:x+[6],class6_2)) + list(map(lambda x:x+[7],class7_2)) +  list(map(lambda x:x+[8],class8_2)) + list(map(lambda x:x+[9],class9_2)) + list(map(lambda x:x+[10],class10_2))\n",
    "    client2  = list(map(lambda x:x+[1],class1_2)) + list(map(lambda x:x+[2],class2_1)) + list(map(lambda x:x+[3],class3_3)) + list(map(lambda x:x+[4],class4_3)) + list(map(lambda x:x+[5],class5_3)) + list(map(lambda x:x+[6],class6_3)) + list(map(lambda x:x+[7],class7_3)) +  list(map(lambda x:x+[8],class8_3)) + list(map(lambda x:x+[9],class9_3)) + list(map(lambda x:x+[10],class10_3))\n",
    "    client3  = list(map(lambda x:x+[1],class1_3)) + list(map(lambda x:x+[2],class2_3)) + list(map(lambda x:x+[3],class3_1)) + list(map(lambda x:x+[4],class4_4)) + list(map(lambda x:x+[5],class5_4)) + list(map(lambda x:x+[6],class6_4)) + list(map(lambda x:x+[7],class7_4)) +  list(map(lambda x:x+[8],class8_4)) + list(map(lambda x:x+[9],class9_4)) + list(map(lambda x:x+[10],class10_4))\n",
    "    client4  = list(map(lambda x:x+[1],class1_4)) + list(map(lambda x:x+[2],class2_4)) + list(map(lambda x:x+[3],class3_4)) + list(map(lambda x:x+[4],class4_1)) + list(map(lambda x:x+[5],class5_5)) + list(map(lambda x:x+[6],class6_5)) + list(map(lambda x:x+[7],class7_5)) +  list(map(lambda x:x+[8],class8_5)) + list(map(lambda x:x+[9],class9_5)) + list(map(lambda x:x+[10],class10_5))\n",
    "    client5  = list(map(lambda x:x+[1],class1_5)) + list(map(lambda x:x+[2],class2_5)) + list(map(lambda x:x+[3],class3_5)) + list(map(lambda x:x+[4],class4_5)) + list(map(lambda x:x+[5],class5_1)) + list(map(lambda x:x+[6],class6_6)) + list(map(lambda x:x+[7],class7_6)) +  list(map(lambda x:x+[8],class8_6)) + list(map(lambda x:x+[9],class9_6)) + list(map(lambda x:x+[10],class10_6))\n",
    "    client6  = list(map(lambda x:x+[1],class1_6)) + list(map(lambda x:x+[2],class2_6)) + list(map(lambda x:x+[3],class3_6)) + list(map(lambda x:x+[4],class4_6)) + list(map(lambda x:x+[5],class5_6)) + list(map(lambda x:x+[6],class6_1)) + list(map(lambda x:x+[7],class7_7)) +  list(map(lambda x:x+[8],class8_7)) + list(map(lambda x:x+[9],class9_7)) + list(map(lambda x:x+[10],class10_7))\n",
    "    client7  = list(map(lambda x:x+[1],class1_7)) + list(map(lambda x:x+[2],class2_7)) + list(map(lambda x:x+[3],class3_7)) + list(map(lambda x:x+[4],class4_7)) + list(map(lambda x:x+[5],class5_7)) + list(map(lambda x:x+[6],class6_7)) + list(map(lambda x:x+[7],class7_1)) +  list(map(lambda x:x+[8],class8_8)) + list(map(lambda x:x+[9],class9_8)) + list(map(lambda x:x+[10],class10_8))\n",
    "    client8  = list(map(lambda x:x+[1],class1_8)) + list(map(lambda x:x+[2],class2_8)) + list(map(lambda x:x+[3],class3_8)) + list(map(lambda x:x+[4],class4_8)) + list(map(lambda x:x+[5],class5_8)) + list(map(lambda x:x+[6],class6_8)) + list(map(lambda x:x+[7],class7_8)) +  list(map(lambda x:x+[8],class8_1)) + list(map(lambda x:x+[9],class9_9)) + list(map(lambda x:x+[10],class10_9))\n",
    "    client9  = list(map(lambda x:x+[1],class1_9)) + list(map(lambda x:x+[2],class2_9)) + list(map(lambda x:x+[3],class3_9)) + list(map(lambda x:x+[4],class4_9)) + list(map(lambda x:x+[5],class5_9)) + list(map(lambda x:x+[6],class6_9)) + list(map(lambda x:x+[7],class7_9)) +  list(map(lambda x:x+[8],class8_9)) + list(map(lambda x:x+[9],class9_1)) + list(map(lambda x:x+[10],class10_10))\n",
    "    client10  = list(map(lambda x:x+[1],class1_10)) + list(map(lambda x:x+[2],class2_10)) + list(map(lambda x:x+[3],class3_10)) + list(map(lambda x:x+[4],class4_10)) + list(map(lambda x:x+[5],class5_10)) + list(map(lambda x:x+[6],class6_10)) + list(map(lambda x:x+[7],class7_10)) +  list(map(lambda x:x+[8],class8_10)) + list(map(lambda x:x+[9],class9_10)) + list(map(lambda x:x+[10],class10_1))\n",
    "    \n",
    "    return [client1,client2,client3,client4,client5,client6,client7,client8,client9,client10]\n",
    "\n",
    "\n",
    "    \n"
   ]
  },
  {
   "cell_type": "code",
   "execution_count": 11,
   "metadata": {},
   "outputs": [],
   "source": [
    "def createClients():\n",
    "    class1 = data.get('class1')\n",
    "    class2 = data.get('class2')\n",
    "    class3 = data.get('class3')\n",
    "    class4 = data.get('class4')\n",
    "    class5 = data.get('class5')\n",
    "\n",
    "    class1_1, class1_2, class1_3, class1_4, class1_5, class1_6 = [class1[:4000],class1[4000:8000],class1[8000:8500],class1[8500:9000], \n",
    "                                                                  class1[9000:9500],class1[9500:]]\n",
    "    class2_1, class2_2, class2_3, class2_4, class2_5, class2_6 = [class2[:4000],class2[4000:8000],class2[8000:8500],class2[8500:9000], \n",
    "                                                                  class2[9000:9500],class2[9500:]]\n",
    "    class3_1, class3_2, class3_3, class3_4, class3_5, class3_6 = [class3[:4000],class3[4000:8000],class3[8000:8500],class3[8500:9000], \n",
    "                                                                  class3[9000:9500],class3[9500:]]\n",
    "    class4_1, class4_2, class4_3, class4_4, class4_5, class4_6 = [class4[:4000],class4[4000:8000],class4[8000:8500],class4[8500:9000], \n",
    "                                                                  class4[9000:9500],class4[9500:]]\n",
    "    class5_1, class5_2, class5_3, class5_4, class5_5, class5_6 = [class5[:4000],class5[4000:8000],class5[8000:8500],class5[8500:9000], \n",
    "                                                                  class5[9000:9500],class5[9500:]]\n",
    "\n",
    "    client1  = list(map(lambda x:x+[1],class1_1)) + list(map(lambda x:x+[4],class4_3)) + list(map(lambda x:x+[5],class5_3))\n",
    "    client2  = list(map(lambda x:x+[1],class1_3)) + list(map(lambda x:x+[2],class2_3)) + list(map(lambda x:x+[3],class3_1))\n",
    "    client3  = list(map(lambda x:x+[1],class1_2)) + list(map(lambda x:x+[3],class3_3)) + list(map(lambda x:x+[4],class4_4))\n",
    "    client4  = list(map(lambda x:x+[3],class3_2)) + list(map(lambda x:x+[4],class4_5)) + list(map(lambda x:x+[5],class5_4))\n",
    "    client5  = list(map(lambda x:x+[2],class2_4)) + list(map(lambda x:x+[4],class4_1)) + list(map(lambda x:x+[5],class5_5))\n",
    "    client6  = list(map(lambda x:x+[1],class1_4)) + list(map(lambda x:x+[2],class2_1)) + list(map(lambda x:x+[3],class3_5))\n",
    "    client7  = list(map(lambda x:x+[2],class2_5)) + list(map(lambda x:x+[4],class4_6)) + list(map(lambda x:x+[5],class5_1))\n",
    "    client8  = list(map(lambda x:x+[2],class2_6)) + list(map(lambda x:x+[4],class4_2)) + list(map(lambda x:x+[5],class5_6))\n",
    "    client9  = list(map(lambda x:x+[1],class1_5)) + list(map(lambda x:x+[2],class2_2)) + list(map(lambda x:x+[3],class3_5))\n",
    "    client10 = list(map(lambda x:x+[1],class1_6)) + list(map(lambda x:x+[3],class3_6)) + list(map(lambda x:x+[5],class5_2))\n",
    "\n",
    "    return [client1,client2,client3,client4,client5,client6,client7,client8,client9,client10]\n"
   ]
  },
  {
   "cell_type": "code",
   "execution_count": 12,
   "metadata": {},
   "outputs": [],
   "source": [
    "def clientDATA(numofclient,data):\n",
    "    clients = {}\n",
    "    for i in range(numofclient):\n",
    "        mjc = set()\n",
    "        \n",
    "        cls = choice(list(data.keys()))\n",
    "        \n",
    "        mjc.add(cls)\n",
    "        \n",
    "        oc = set(data.keys())-mjc\n",
    "\n",
    "        mjv = randint(75,80)\n",
    "\n",
    "        ocv = randint(mjv//10, (mjv//10)+15)\n",
    "\n",
    "        mjdata = data.get(mjc.pop())\n",
    "\n",
    "        rslt = list(map(lambda x:convert(x,cls) , mjdata[:ceil(len(mjdata)*mjv/100)]))+list(chain.from_iterable(list(map(lambda x:list(map(lambda y:convert(y,x) , mjdata[:ceil(len(mjdata)*ocv/100)])),oc))))\n",
    "        \n",
    "        clients[i] = rslt\n",
    "    return clients"
   ]
  },
  {
   "cell_type": "code",
   "execution_count": 13,
   "metadata": {},
   "outputs": [],
   "source": [
    "# D1"
   ]
  },
  {
   "cell_type": "code",
   "execution_count": 14,
   "metadata": {},
   "outputs": [],
   "source": [
    "# CLIENT1, CLIENT2, CLIENT3, CLIENT4, CLIENT5, CLIENT6, CLIENT7, CLIENT8, CLIENT9, CLIENT10,= clientDATA(10,data).values()\n",
    "# DIM = 5"
   ]
  },
  {
   "cell_type": "code",
   "execution_count": 15,
   "metadata": {},
   "outputs": [],
   "source": [
    "# D2"
   ]
  },
  {
   "cell_type": "code",
   "execution_count": 16,
   "metadata": {},
   "outputs": [],
   "source": [
    "# CLIENT1, CLIENT2, CLIENT3, CLIENT4, CLIENT5, CLIENT6, CLIENT7, CLIENT8, CLIENT9, CLIENT10,= createClients()\n",
    "# DIM = 3"
   ]
  },
  {
   "cell_type": "code",
   "execution_count": 17,
   "metadata": {},
   "outputs": [],
   "source": [
    "# D3"
   ]
  },
  {
   "cell_type": "code",
   "execution_count": 18,
   "metadata": {},
   "outputs": [],
   "source": [
    "# CLIENT1, CLIENT2, CLIENT3, CLIENT4, CLIENT5, CLIENT6, CLIENT7, CLIENT8, CLIENT9, CLIENT10,= newDATA(data)\n",
    "# DIM = 1"
   ]
  },
  {
   "cell_type": "code",
   "execution_count": 19,
   "metadata": {},
   "outputs": [],
   "source": [
    "# D4"
   ]
  },
  {
   "cell_type": "code",
   "execution_count": 20,
   "metadata": {},
   "outputs": [],
   "source": [
    "CLIENT1, CLIENT2, CLIENT3, CLIENT4, CLIENT5, CLIENT6, CLIENT7, CLIENT8, CLIENT9, CLIENT10,= createClientsDATA(data)\n",
    "DIM = 10"
   ]
  },
  {
   "cell_type": "markdown",
   "metadata": {},
   "source": [
    "### Clients Data"
   ]
  },
  {
   "cell_type": "code",
   "execution_count": 21,
   "metadata": {},
   "outputs": [],
   "source": [
    "def get_batches(HOLDER):\n",
    "    federated_data = []\n",
    "    for i in HOLDER:\n",
    "        client = []\n",
    "        for index in range(len(i)//100):\n",
    "            X= []\n",
    "            Y= []\n",
    "            for elements in i[index*100:index*100+100]:\n",
    "                X.append(np.array([np.float32(elements[0]/10000),\n",
    "                                   np.float32(elements[1]/10000),\n",
    "                                   np.float32(elements[2]/10000),\n",
    "                                   np.float32(elements[3]/10000),\n",
    "                                   np.float32(elements[4]/10000),\n",
    "                                   np.float32(elements[5]/10000),\n",
    "                                   np.float32(elements[6]/10000),\n",
    "                                   np.float32(elements[7]/10000),\n",
    "                                   np.float32(elements[8]/10000),\n",
    "                                   np.float32(elements[9]/10000),\n",
    "                                  ]))\n",
    "                Y.append(np.array(np.int32(elements[10])))\n",
    "            client.append({\n",
    "                'x':np.array(X),\n",
    "                'y':np.array(Y)\n",
    "            })\n",
    "        federated_data.append(client)\n",
    "    return federated_data"
   ]
  },
  {
   "cell_type": "code",
   "execution_count": 22,
   "metadata": {},
   "outputs": [],
   "source": [
    "def poissonDistributiondata(clientData):\n",
    "    data = random.sample(clientData,2000)\n",
    "    return [data[:1000],data[1000:1500],data[1500:]]"
   ]
  },
  {
   "cell_type": "code",
   "execution_count": 23,
   "metadata": {},
   "outputs": [],
   "source": [
    "def reselectClientData():\n",
    "    c1_tra, c1_val, c1_test = poissonDistributiondata(CLIENT1)\n",
    "    c2_tra, c2_val, c2_test = poissonDistributiondata(CLIENT2)\n",
    "    c3_tra, c3_val, c3_test = poissonDistributiondata(CLIENT3)\n",
    "    c4_tra, c4_val, c4_test = poissonDistributiondata(CLIENT4)\n",
    "    c5_tra, c5_val, c5_test = poissonDistributiondata(CLIENT5)\n",
    "    c6_tra, c6_val, c6_test = poissonDistributiondata(CLIENT6)\n",
    "    c7_tra, c7_val, c7_test = poissonDistributiondata(CLIENT7)\n",
    "    c8_tra, c8_val, c8_test = poissonDistributiondata(CLIENT8)\n",
    "    c9_tra, c9_val, c9_test = poissonDistributiondata(CLIENT9)\n",
    "    c10_tra, c10_val, c10_test = poissonDistributiondata(CLIENT10)\n",
    "\n",
    "    train = [c1_tra,   c2_tra,  c3_tra, c4_tra,   c5_tra,  c6_tra, c7_tra,   c8_tra,  c9_tra, c10_tra]\n",
    "    val   = [c1_val,   c2_val,  c3_val, c4_val,   c5_val,  c6_val, c7_val,   c8_val,  c9_val, c10_val]\n",
    "    test  = [c1_test,  c2_test, c3_test, c4_test, c5_test, c6_test, c7_test, c8_test, c9_test, c10_test]\n",
    "\n",
    "    federated_train_data      =  get_batches(train)\n",
    "    federated_validation_data =  get_batches(val)\n",
    "    federated_test_data       =  get_batches(test)\n",
    "    \n",
    "    #count\n",
    "    ARR.append([Counter(list(map(lambda x: x[-1], c1_tra))), \n",
    "                Counter(list(map(lambda x: x[-1], c2_tra))), \n",
    "                Counter(list(map(lambda x: x[-1], c3_tra))),\n",
    "                Counter(list(map(lambda x: x[-1], c4_tra))), \n",
    "                Counter(list(map(lambda x: x[-1], c5_tra))), \n",
    "                Counter(list(map(lambda x: x[-1], c6_tra))),\n",
    "                Counter(list(map(lambda x: x[-1], c7_tra))), \n",
    "                Counter(list(map(lambda x: x[-1], c8_tra))), \n",
    "                Counter(list(map(lambda x: x[-1], c9_tra))),\n",
    "                Counter(list(map(lambda x: x[-1], c10_tra)))])\n",
    "    #mean\n",
    "    \n",
    "    return (federated_train_data,federated_validation_data,federated_test_data)"
   ]
  },
  {
   "cell_type": "code",
   "execution_count": 54,
   "metadata": {},
   "outputs": [
    {
     "data": {
      "text/plain": [
       "2"
      ]
     },
     "execution_count": 54,
     "metadata": {},
     "output_type": "execute_result"
    }
   ],
   "source": [
    "len(federated_test_data[0][0])"
   ]
  },
  {
   "cell_type": "code",
   "execution_count": null,
   "metadata": {},
   "outputs": [],
   "source": []
  },
  {
   "cell_type": "code",
   "execution_count": 24,
   "metadata": {},
   "outputs": [
    {
     "name": "stdout",
     "output_type": "stream",
     "text": [
      "3\n"
     ]
    }
   ],
   "source": [
    "if all([None]) : \n",
    "    print(1)\n",
    "else:\n",
    "    print(3)"
   ]
  },
  {
   "cell_type": "code",
   "execution_count": 25,
   "metadata": {},
   "outputs": [],
   "source": [
    "def get_mean(arr_history):\n",
    "    client1_means  = [i[0] for i in arr_history]\n",
    "    client2_means  = [i[1] for i in arr_history]\n",
    "    client3_means  = [i[2] for i in arr_history]\n",
    "    client4_means  = [i[3] for i in arr_history]\n",
    "    client5_means  = [i[4] for i in arr_history]\n",
    "    client6_means  = [i[5] for i in arr_history]\n",
    "    client7_means  = [i[6] for i in arr_history]\n",
    "    client8_means  = [i[7] for i in arr_history]\n",
    "    client9_means  = [i[8] for i in arr_history]\n",
    "    client10_means = [i[9] for i in arr_history]\n",
    "    \n",
    "    client1_means_vals_c1 = [0]\n",
    "    client1_means_vals_c2 = [0]    \n",
    "    client1_means_vals_c3 = [0]\n",
    "    client1_means_vals_c4 = [0]    \n",
    "    client1_means_vals_c5 = [0] \n",
    "    \n",
    "    client2_means_vals_c1 = [0]\n",
    "    client2_means_vals_c2 = [0]    \n",
    "    client2_means_vals_c3 = [0]\n",
    "    client2_means_vals_c4 = [0]    \n",
    "    client2_means_vals_c5 = [0] \n",
    "    \n",
    "    client3_means_vals_c1 = [0]\n",
    "    client3_means_vals_c2 = [0]    \n",
    "    client3_means_vals_c3 = [0]\n",
    "    client3_means_vals_c4 = [0]    \n",
    "    client3_means_vals_c5 = [0]\n",
    "    \n",
    "    client4_means_vals_c1 = [0]\n",
    "    client4_means_vals_c2 = [0]    \n",
    "    client4_means_vals_c3 = [0]\n",
    "    client4_means_vals_c4 = [0]    \n",
    "    client4_means_vals_c5 = [0] \n",
    "    \n",
    "    client5_means_vals_c1 = [0]\n",
    "    client5_means_vals_c2 = [0]    \n",
    "    client5_means_vals_c3 = [0]\n",
    "    client5_means_vals_c4 = [0]    \n",
    "    client5_means_vals_c5 = [0] \n",
    "    \n",
    "    client6_means_vals_c1 = [0]\n",
    "    client6_means_vals_c2 = [0]    \n",
    "    client6_means_vals_c3 = [0]\n",
    "    client6_means_vals_c4 = [0]    \n",
    "    client6_means_vals_c5 = [0]\n",
    "    \n",
    "    client7_means_vals_c1 = [0]\n",
    "    client7_means_vals_c2 = [0]    \n",
    "    client7_means_vals_c3 = [0]\n",
    "    client7_means_vals_c4 = [0]    \n",
    "    client7_means_vals_c5 = [0]\n",
    "    \n",
    "    client8_means_vals_c1 = [0]\n",
    "    client8_means_vals_c2 = [0]    \n",
    "    client8_means_vals_c3 = [0]\n",
    "    client8_means_vals_c4 = [0]    \n",
    "    client8_means_vals_c5 = [0]\n",
    "    \n",
    "    client9_means_vals_c1 = [0]\n",
    "    client9_means_vals_c2 = [0]    \n",
    "    client9_means_vals_c3 = [0]\n",
    "    client9_means_vals_c4 = [0]    \n",
    "    client9_means_vals_c5 = [0]\n",
    "    \n",
    "    client10_means_vals_c1 = [0]\n",
    "    client10_means_vals_c2 = [0]    \n",
    "    client10_means_vals_c3 = [0]\n",
    "    client10_means_vals_c4 = [0]    \n",
    "    client10_means_vals_c5 = [0]\n",
    "    \n",
    "    client1_means_vals_c1 = [i.get(0) for i in client1_means]\n",
    "    client1_means_vals_c2 = [i.get(1) for i in client1_means]    \n",
    "    client1_means_vals_c3 = [i.get(2) for i in client1_means]\n",
    "    client1_means_vals_c4 = [i.get(3) for i in client1_means]    \n",
    "    client1_means_vals_c5 = [i.get(4) for i in client1_means]    \n",
    "    \n",
    "    client2_means_vals_c1 = [i.get(0) for i in client2_means]\n",
    "    client2_means_vals_c2 = [i.get(1) for i in client2_means]    \n",
    "    client2_means_vals_c3 = [i.get(2) for i in client2_means]\n",
    "    client2_means_vals_c4 = [i.get(3) for i in client2_means]    \n",
    "    client1_means_vals_c5 = [i.get(4) for i in client2_means]    \n",
    "    \n",
    "    client3_means_vals_c1 = [i.get(0) for i in client3_means]\n",
    "    client3_means_vals_c2 = [i.get(1) for i in client3_means]    \n",
    "    client3_means_vals_c3 = [i.get(2) for i in client3_means]\n",
    "    client3_means_vals_c4 = [i.get(3) for i in client3_means]    \n",
    "    client3_means_vals_c5 = [i.get(4) for i in client3_means]    \n",
    "    \n",
    "    client4_means_vals_c1 = [i.get(0) for i in client4_means]\n",
    "    client4_means_vals_c2 = [i.get(1) for i in client4_means]    \n",
    "    client4_means_vals_c3 = [i.get(2) for i in client4_means]\n",
    "    client4_means_vals_c4 = [i.get(3) for i in client4_means]    \n",
    "    client4_means_vals_c5 = [i.get(4) for i in client4_means]    \n",
    "    \n",
    "    client5_means_vals_c1 = [i.get(0) for i in client5_means]\n",
    "    client5_means_vals_c2 = [i.get(1) for i in client5_means]    \n",
    "    client5_means_vals_c3 = [i.get(2) for i in client5_means]\n",
    "    client5_means_vals_c4 = [i.get(3) for i in client5_means]    \n",
    "    client5_means_vals_c5 = [i.get(4) for i in client5_means]    \n",
    "    \n",
    "    client6_means_vals_c1 = [i.get(0) for i in client6_means]\n",
    "    client6_means_vals_c2 = [i.get(1) for i in client6_means]    \n",
    "    client6_means_vals_c3 = [i.get(2) for i in client6_means]\n",
    "    client6_means_vals_c4 = [i.get(3) for i in client6_means]    \n",
    "    client6_means_vals_c5 = [i.get(4) for i in client6_means] \n",
    "    \n",
    "    client7_means_vals_c1 = [i.get(0) for i in client7_means]\n",
    "    client7_means_vals_c2 = [i.get(1) for i in client7_means]    \n",
    "    client7_means_vals_c3 = [i.get(2) for i in client7_means]\n",
    "    client7_means_vals_c4 = [i.get(3) for i in client7_means]    \n",
    "    client7_means_vals_c5 = [i.get(4) for i in client7_means]    \n",
    "    \n",
    "    client8_means_vals_c1 = [i.get(0) for i in client8_means]\n",
    "    client8_means_vals_c2 = [i.get(1) for i in client8_means]    \n",
    "    client8_means_vals_c3 = [i.get(2) for i in client8_means]\n",
    "    client8_means_vals_c4 = [i.get(3) for i in client8_means]    \n",
    "    client8_means_vals_c5 = [i.get(4) for i in client8_means]    \n",
    "    \n",
    "    client9_means_vals_c1 = [i.get(0) for i in client9_means]\n",
    "    client9_means_vals_c2 = [i.get(1) for i in client9_means]    \n",
    "    client9_means_vals_c3 = [i.get(2) for i in client9_means]\n",
    "    client9_means_vals_c4 = [i.get(3) for i in client9_means]    \n",
    "    client9_means_vals_c5 = [i.get(4) for i in client9_means] \n",
    "    \n",
    "    client10_means_vals_c1 = [i.get(0) for i in client10_means]\n",
    "    client10_means_vals_c2 = [i.get(1) for i in client10_means]    \n",
    "    client10_means_vals_c3 = [i.get(2) for i in client10_means]\n",
    "    client10_means_vals_c4 = [i.get(3) for i in client10_means]    \n",
    "    client10_means_vals_c5 = [i.get(4) for i in client10_means]    \n",
    "    \n",
    "    if not all(client1_means_vals_c1) : client1_means_vals_c1 = [0]\n",
    "    if not all(client1_means_vals_c2) : client1_means_vals_c2 = [0]   \n",
    "    if not all(client1_means_vals_c3) : client1_means_vals_c3 = [0] \n",
    "    if not all(client1_means_vals_c4) : client1_means_vals_c4 = [0]  \n",
    "    if not all(client1_means_vals_c5) : client1_means_vals_c5 = [0]     \n",
    "        \n",
    "    if not all(client2_means_vals_c1) : client2_means_vals_c1 = [0]\n",
    "    if not all(client2_means_vals_c2) : client2_means_vals_c2 = [0]   \n",
    "    if not all(client2_means_vals_c3) : client2_means_vals_c3 = [0] \n",
    "    if not all(client2_means_vals_c4) : client2_means_vals_c4 = [0]  \n",
    "    if not all(client2_means_vals_c5) : client2_means_vals_c5 = [0] \n",
    "        \n",
    "    if not all(client3_means_vals_c1) : client3_means_vals_c1 = [0]\n",
    "    if not all(client3_means_vals_c2) : client3_means_vals_c2 = [0]   \n",
    "    if not all(client3_means_vals_c3) : client3_means_vals_c3 = [0] \n",
    "    if not all(client3_means_vals_c4) : client3_means_vals_c4 = [0]  \n",
    "    if not all(client3_means_vals_c5) : client3_means_vals_c5 = [0] \n",
    "        \n",
    "    if not all(client4_means_vals_c1) : client4_means_vals_c1 = [0]\n",
    "    if not all(client4_means_vals_c2) : client4_means_vals_c2 = [0]   \n",
    "    if not all(client4_means_vals_c3) : client4_means_vals_c3 = [0] \n",
    "    if not all(client4_means_vals_c4) : client4_means_vals_c4 = [0]  \n",
    "    if not all(client4_means_vals_c5) : client4_means_vals_c5 = [0] \n",
    "        \n",
    "    if not all(client5_means_vals_c1) : client5_means_vals_c1 = [0]\n",
    "    if not all(client5_means_vals_c2) : client5_means_vals_c2 = [0]   \n",
    "    if not all(client5_means_vals_c3) : client5_means_vals_c3 = [0] \n",
    "    if not all(client5_means_vals_c4) : client5_means_vals_c4 = [0]  \n",
    "    if not all(client5_means_vals_c5) : client5_means_vals_c5 = [0] \n",
    "        \n",
    "    if not all(client6_means_vals_c1) : client6_means_vals_c1 = [0]\n",
    "    if not all(client6_means_vals_c2) : client6_means_vals_c2 = [0]   \n",
    "    if not all(client6_means_vals_c3) : client6_means_vals_c3 = [0] \n",
    "    if not all(client6_means_vals_c4) : client6_means_vals_c4 = [0]  \n",
    "    if not all(client6_means_vals_c5) : client6_means_vals_c5 = [0] \n",
    "        \n",
    "    if not all(client7_means_vals_c1) : client7_means_vals_c1 = [0]\n",
    "    if not all(client7_means_vals_c2) : client7_means_vals_c2 = [0]   \n",
    "    if not all(client7_means_vals_c3) : client7_means_vals_c3 = [0] \n",
    "    if not all(client7_means_vals_c4) : client7_means_vals_c4 = [0]  \n",
    "    if not all(client7_means_vals_c5) : client7_means_vals_c5 = [0] \n",
    "        \n",
    "    if not all(client8_means_vals_c1) : client8_means_vals_c1 = [0]\n",
    "    if not all(client8_means_vals_c2) : client8_means_vals_c2 = [0]   \n",
    "    if not all(client8_means_vals_c3) : client8_means_vals_c3 = [0] \n",
    "    if not all(client8_means_vals_c4) : client8_means_vals_c4 = [0]  \n",
    "    if not all(client8_means_vals_c5) : client8_means_vals_c5 = [0] \n",
    "        \n",
    "    if not all(client9_means_vals_c1) : client9_means_vals_c1 = [0]\n",
    "    if not all(client9_means_vals_c2) : client9_means_vals_c2 = [0]   \n",
    "    if not all(client9_means_vals_c3) : client9_means_vals_c3 = [0] \n",
    "    if not all(client9_means_vals_c4) : client9_means_vals_c4 = [0]  \n",
    "    if not all(client9_means_vals_c5) : client9_means_vals_c5 = [0] \n",
    "        \n",
    "    if not all(client10_means_vals_c1) : client10_means_vals_c1 = [0]\n",
    "    if not all(client10_means_vals_c2) : client10_means_vals_c2 = [0]   \n",
    "    if not all(client10_means_vals_c3) : client10_means_vals_c3 = [0] \n",
    "    if not all(client10_means_vals_c4) : client10_means_vals_c4 = [0]  \n",
    "    if not all(client10_means_vals_c5) : client10_means_vals_c5 = [0] \n",
    "    \n",
    "    return {\n",
    "        'client1':{\n",
    "            0: mean(client1_means_vals_c1),\n",
    "            1: mean(client1_means_vals_c2),\n",
    "            2: mean(client1_means_vals_c3),\n",
    "            3: mean(client1_means_vals_c4),\n",
    "            4: mean(client1_means_vals_c5)\n",
    "        },\n",
    "        'client2':{\n",
    "            0: mean(client2_means_vals_c1),\n",
    "            1: mean(client2_means_vals_c2),\n",
    "            2: mean(client2_means_vals_c3),\n",
    "            3: mean(client2_means_vals_c4),\n",
    "            4: mean(client2_means_vals_c5)\n",
    "        },\n",
    "        'client3':{\n",
    "            0: mean(client3_means_vals_c1),\n",
    "            1: mean(client3_means_vals_c2),\n",
    "            2: mean(client3_means_vals_c3),\n",
    "            3: mean(client3_means_vals_c4),\n",
    "            4: mean(client3_means_vals_c5)\n",
    "        },\n",
    "         'client4':{\n",
    "            0: mean(client4_means_vals_c1),\n",
    "            1: mean(client4_means_vals_c2),\n",
    "            2: mean(client4_means_vals_c3),\n",
    "            3: mean(client4_means_vals_c4),\n",
    "            4: mean(client4_means_vals_c5)\n",
    "        },\n",
    "        'client5':{\n",
    "            0: mean(client5_means_vals_c1),\n",
    "            1: mean(client5_means_vals_c2),\n",
    "            2: mean(client5_means_vals_c3),\n",
    "            3: mean(client5_means_vals_c4),\n",
    "            4: mean(client5_means_vals_c5)\n",
    "        },\n",
    "        'client6':{\n",
    "            0: mean(client6_means_vals_c1),\n",
    "            1: mean(client6_means_vals_c2),\n",
    "            2: mean(client6_means_vals_c3),\n",
    "            3: mean(client6_means_vals_c4),\n",
    "            4: mean(client6_means_vals_c5)\n",
    "        },\n",
    "         'client7':{\n",
    "            0: mean(client7_means_vals_c1),\n",
    "            1: mean(client7_means_vals_c2),\n",
    "            2: mean(client7_means_vals_c3),\n",
    "            3: mean(client7_means_vals_c4),\n",
    "            4: mean(client7_means_vals_c5)\n",
    "        },\n",
    "        'client8':{\n",
    "            0: mean(client8_means_vals_c1),\n",
    "            1: mean(client8_means_vals_c2),\n",
    "            2: mean(client8_means_vals_c3),\n",
    "            3: mean(client8_means_vals_c4),\n",
    "            4: mean(client8_means_vals_c5)\n",
    "        },\n",
    "        'client9':{\n",
    "            0: mean(client9_means_vals_c1),\n",
    "            1: mean(client9_means_vals_c2),\n",
    "            2: mean(client9_means_vals_c3),\n",
    "            3: mean(client9_means_vals_c4),\n",
    "            4: mean(client9_means_vals_c5)\n",
    "        },\n",
    "        'client10':{\n",
    "            0: mean(client10_means_vals_c1),\n",
    "            1: mean(client10_means_vals_c2),\n",
    "            2: mean(client10_means_vals_c3),\n",
    "            3: mean(client10_means_vals_c4),\n",
    "            4: mean(client10_means_vals_c5)\n",
    "        }\n",
    "    }"
   ]
  },
  {
   "cell_type": "markdown",
   "metadata": {},
   "source": [
    "####  Follow shows the get mean output\n",
    "```get_mean(ARR)```\n",
    "\n",
    "```{'client1': {0: 706.5, 1: 154, 2: 139.5},\n",
    " 'client2': {0: 188, 1: 611, 2: 201},\n",
    " 'client3': {0: 92, 1: 245, 2: 663}}```"
   ]
  },
  {
   "cell_type": "markdown",
   "metadata": {},
   "source": [
    "#### Custom mean aggregation function goes here"
   ]
  },
  {
   "cell_type": "code",
   "execution_count": 26,
   "metadata": {},
   "outputs": [],
   "source": [
    "def AGG_FUNCTION1(mean):\n",
    "    return [\n",
    "        np.float32(max(mean.get('client1').values())),\n",
    "        np.float32(max(mean.get('client2').values())),\n",
    "        np.float32(max(mean.get('client3').values())),\n",
    "        np.float32(max(mean.get('client4').values())),\n",
    "        np.float32(max(mean.get('client5').values())),\n",
    "        np.float32(max(mean.get('client6').values())),\n",
    "        np.float32(max(mean.get('client7').values())),\n",
    "        np.float32(max(mean.get('client8').values())),\n",
    "        np.float32(max(mean.get('client9').values())),\n",
    "        np.float32(max(mean.get('client10').values()))\n",
    "    ]"
   ]
  },
  {
   "cell_type": "code",
   "execution_count": 27,
   "metadata": {},
   "outputs": [],
   "source": [
    "def AGG_FUNCTION2(mean):\n",
    "    return [\n",
    "        np.float32(min(mean.get('client1').values())),\n",
    "        np.float32(min(mean.get('client2').values())),\n",
    "        np.float32(min(mean.get('client3').values())),\n",
    "        np.float32(min(mean.get('client4').values())),\n",
    "        np.float32(min(mean.get('client5').values())),\n",
    "        np.float32(min(mean.get('client6').values())),\n",
    "        np.float32(min(mean.get('client7').values())),\n",
    "        np.float32(min(mean.get('client8').values())),\n",
    "        np.float32(min(mean.get('client9').values())),\n",
    "        np.float32(min(mean.get('client10').values()))\n",
    "    ]"
   ]
  },
  {
   "cell_type": "code",
   "execution_count": 28,
   "metadata": {},
   "outputs": [],
   "source": [
    "def AGG_FUNCTION3(mean):\n",
    "    return [\n",
    "        np.float32(sum(mean.get('client1').values())),\n",
    "        np.float32(sum(mean.get('client2').values())),\n",
    "        np.float32(sum(mean.get('client3').values())),\n",
    "        np.float32(sum(mean.get('client4').values())),\n",
    "        np.float32(sum(mean.get('client5').values())),\n",
    "        np.float32(sum(mean.get('client6').values())),\n",
    "        np.float32(sum(mean.get('client7').values())),\n",
    "        np.float32(sum(mean.get('client8').values())),\n",
    "        np.float32(sum(mean.get('client9').values())),\n",
    "        np.float32(sum(mean.get('client10').values()))\n",
    "    ]"
   ]
  },
  {
   "cell_type": "code",
   "execution_count": 29,
   "metadata": {},
   "outputs": [],
   "source": [
    "def AGG_FUNCTION4(mean):\n",
    "    return [\n",
    "        np.float32(sum(map(lambda x: x*x ,mean.get('client1').values()))),\n",
    "        np.float32(sum(map(lambda x: x*x ,mean.get('client2').values()))),\n",
    "        np.float32(sum(map(lambda x: x*x ,mean.get('client3').values()))),\n",
    "        np.float32(sum(map(lambda x: x*x ,mean.get('client4').values()))),\n",
    "        np.float32(sum(map(lambda x: x*x ,mean.get('client5').values()))),\n",
    "        np.float32(sum(map(lambda x: x*x ,mean.get('client6').values()))),\n",
    "        np.float32(sum(map(lambda x: x*x ,mean.get('client7').values()))),\n",
    "        np.float32(sum(map(lambda x: x*x ,mean.get('client8').values()))),\n",
    "        np.float32(sum(map(lambda x: x*x ,mean.get('client9').values()))),\n",
    "        np.float32(sum(map(lambda x: x*x ,mean.get('client10').values())))\n",
    "    ]"
   ]
  },
  {
   "cell_type": "code",
   "execution_count": 30,
   "metadata": {},
   "outputs": [],
   "source": [
    "def AGG_FUNCTION5(mean):\n",
    "    return [\n",
    "        np.float32(sqrt(sum(map(lambda x: x*x ,mean.get('client1').values())))),\n",
    "        np.float32(sqrt(sum(map(lambda x: x*x ,mean.get('client2').values())))),\n",
    "        np.float32(sqrt(sum(map(lambda x: x*x ,mean.get('client3').values())))),\n",
    "        np.float32(sqrt(sum(map(lambda x: x*x ,mean.get('client4').values())))),\n",
    "        np.float32(sqrt(sum(map(lambda x: x*x ,mean.get('client5').values())))),\n",
    "        np.float32(sqrt(sum(map(lambda x: x*x ,mean.get('client6').values())))),\n",
    "        np.float32(sqrt(sum(map(lambda x: x*x ,mean.get('client7').values())))),\n",
    "        np.float32(sqrt(sum(map(lambda x: x*x ,mean.get('client8').values())))),\n",
    "        np.float32(sqrt(sum(map(lambda x: x*x ,mean.get('client9').values())))),\n",
    "        np.float32(sqrt(sum(map(lambda x: x*x ,mean.get('client10').values()))))\n",
    "    ]"
   ]
  },
  {
   "cell_type": "code",
   "execution_count": 31,
   "metadata": {},
   "outputs": [],
   "source": [
    "def AGG_FUNCTION6():\n",
    "    return [\n",
    "        np.float32(random.uniform(1.1, 3.61)),\n",
    "        np.float32(random.uniform(1.1, 3.61)),\n",
    "        np.float32(random.uniform(1.1, 3.61)),\n",
    "        np.float32(random.uniform(1.1, 3.61)),\n",
    "        np.float32(random.uniform(1.1, 3.61)),\n",
    "        np.float32(random.uniform(1.1, 3.61)),\n",
    "        np.float32(random.uniform(1.1, 3.61)),\n",
    "        np.float32(random.uniform(1.1, 3.61)),\n",
    "        np.float32(random.uniform(1.1, 3.61)),\n",
    "        np.float32(random.uniform(1.1, 3.61)),\n",
    "    ]"
   ]
  },
  {
   "cell_type": "code",
   "execution_count": 32,
   "metadata": {},
   "outputs": [
    {
     "data": {
      "text/plain": [
       "10"
      ]
     },
     "execution_count": 32,
     "metadata": {},
     "output_type": "execute_result"
    }
   ],
   "source": [
    "len(AGG_FUNCTION6())"
   ]
  },
  {
   "cell_type": "markdown",
   "metadata": {},
   "source": [
    "### Federated Data Types [Client and Server]"
   ]
  },
  {
   "cell_type": "code",
   "execution_count": 33,
   "metadata": {},
   "outputs": [],
   "source": [
    "BATCH_SPEC = collections.OrderedDict(x=tf.TensorSpec(shape=[None, 10], dtype=tf.float32),\n",
    "                                     y=tf.TensorSpec(shape=[None], dtype=tf.int32))\n",
    "BATCH_TYPE = tff.to_type(BATCH_SPEC)\n",
    "\n",
    "\n",
    "MODEL_SPEC = collections.OrderedDict(weights=tf.TensorSpec(shape=[10, DIM], dtype=tf.float32),\n",
    "                                     bias=tf.TensorSpec(shape=[DIM], dtype=tf.float32))\n",
    "MODEL_TYPE = tff.to_type(MODEL_SPEC)\n",
    "\n",
    "\n",
    "WEIGHT_SPEC = tff.TensorType(dtype=tf.float32, shape=None)\n",
    "WEIGHT_TYPE = tff.to_type(WEIGHT_SPEC)\n",
    "WEIGHT_DATA_TYPE = tff.FederatedType(WEIGHT_TYPE, tff.CLIENTS)"
   ]
  },
  {
   "cell_type": "markdown",
   "metadata": {},
   "source": [
    "### Federated Client"
   ]
  },
  {
   "cell_type": "code",
   "execution_count": 34,
   "metadata": {},
   "outputs": [],
   "source": [
    "@tf.function\n",
    "def forward_pass(model, batch):\n",
    "    predicted_y = tf.nn.softmax(tf.matmul(batch['x'], model['weights']) + model['bias'])\n",
    "    return -tf.reduce_mean(tf.reduce_sum(tf.one_hot(batch['y'], DIM) * tf.math.log(predicted_y), axis=[1]))\n",
    "\n",
    "@tff.tf_computation(MODEL_TYPE, BATCH_TYPE)\n",
    "def batch_loss(model, batch):\n",
    "    return forward_pass(model, batch)"
   ]
  },
  {
   "cell_type": "code",
   "execution_count": 35,
   "metadata": {},
   "outputs": [],
   "source": [
    "@tff.tf_computation(MODEL_TYPE, BATCH_TYPE, tf.float32)\n",
    "def batch_train(initial_model, batch, learning_rate):\n",
    "    model_vars = collections.OrderedDict([\n",
    "        (name, tf.Variable(name=name, initial_value=value))\n",
    "        for name, value in initial_model.items()\n",
    "    ])\n",
    "    optimizer = tf.keras.optimizers.SGD(learning_rate)\n",
    "    \n",
    "    @tf.function\n",
    "    def _train_on_batch(model_vars, batch):\n",
    "        with tf.GradientTape() as tape:\n",
    "            loss = forward_pass(model_vars, batch)\n",
    "        grads = tape.gradient(loss, model_vars)\n",
    "        optimizer.apply_gradients(zip(tf.nest.flatten(grads), tf.nest.flatten(model_vars)))\n",
    "        return model_vars\n",
    "  \n",
    "    return _train_on_batch(model_vars, batch)"
   ]
  },
  {
   "cell_type": "code",
   "execution_count": 36,
   "metadata": {},
   "outputs": [],
   "source": [
    "LOCAL_DATA_TYPE = tff.SequenceType(BATCH_TYPE)\n",
    "\n",
    "@tff.federated_computation(MODEL_TYPE, tf.float32, LOCAL_DATA_TYPE)\n",
    "def local_train(initial_model, learning_rate, all_batches):\n",
    "    @tff.federated_computation(MODEL_TYPE, BATCH_TYPE)\n",
    "    def batch_fn(model, batch):\n",
    "        return batch_train(model, batch, learning_rate)\n",
    "    return tff.sequence_reduce(all_batches, initial_model, batch_fn)"
   ]
  },
  {
   "cell_type": "code",
   "execution_count": 37,
   "metadata": {},
   "outputs": [],
   "source": [
    "@tff.federated_computation(MODEL_TYPE, LOCAL_DATA_TYPE)\n",
    "def local_eval(model, all_batches):\n",
    "    return tff.sequence_sum(tff.sequence_map(tff.federated_computation(lambda b: batch_loss(model, b), BATCH_TYPE),all_batches))"
   ]
  },
  {
   "cell_type": "markdown",
   "metadata": {},
   "source": [
    "### Federated Server"
   ]
  },
  {
   "cell_type": "code",
   "execution_count": 38,
   "metadata": {},
   "outputs": [],
   "source": [
    "SERVER_MODEL_TYPE = tff.type_at_server(MODEL_TYPE)\n",
    "CLIENT_DATA_TYPE = tff.type_at_clients(LOCAL_DATA_TYPE)"
   ]
  },
  {
   "cell_type": "code",
   "execution_count": 39,
   "metadata": {},
   "outputs": [],
   "source": [
    "@tff.federated_computation(SERVER_MODEL_TYPE, CLIENT_DATA_TYPE)\n",
    "def federated_eval(model, data):\n",
    "    return tff.federated_mean(tff.federated_map(local_eval, [tff.federated_broadcast(model), data]))"
   ]
  },
  {
   "cell_type": "markdown",
   "metadata": {},
   "source": [
    "SERVER_FLOAT_TYPE"
   ]
  },
  {
   "cell_type": "code",
   "execution_count": 40,
   "metadata": {},
   "outputs": [],
   "source": [
    "SERVER_FLOAT_TYPE = tff.type_at_server(tf.float32)"
   ]
  },
  {
   "cell_type": "markdown",
   "metadata": {},
   "source": [
    "#### With custom weighting factors"
   ]
  },
  {
   "cell_type": "code",
   "execution_count": 41,
   "metadata": {},
   "outputs": [],
   "source": [
    "@tff.federated_computation(SERVER_MODEL_TYPE, SERVER_FLOAT_TYPE,CLIENT_DATA_TYPE, WEIGHT_DATA_TYPE)\n",
    "def federated_train(model, learning_rate, data, weights):\n",
    "    return tff.federated_mean(\n",
    "          tff.federated_map(local_train, [\n",
    "          tff.federated_broadcast(model),\n",
    "          tff.federated_broadcast(learning_rate), data]), weights)\n",
    "\n",
    "def modelR(weights, biases, data):\n",
    "#     print(weights)\n",
    "#     print(biases)\n",
    "    count = 0\n",
    "    avg = 0\n",
    "    for j in range(len(federated_test_data[0])):\n",
    "        l = [np.where(i==max(i))[0][0] for i in activations.sigmoid(np.matmul(federated_test_data[0][j].get('x'), model.get('weights'))).numpy()]\n",
    "        Y = federated_test_data[0][j].get('y')\n",
    "        \n",
    "        for i in range(len(Y)):\n",
    "            avg+=1\n",
    "            if l[i] == Y[i]:\n",
    "                count+= 1\n",
    "                \n",
    "    return count/avg"
   ]
  },
  {
   "cell_type": "markdown",
   "metadata": {},
   "source": [
    "#### Without custom weighting factors"
   ]
  },
  {
   "cell_type": "code",
   "execution_count": 42,
   "metadata": {},
   "outputs": [],
   "source": [
    "@tff.federated_computation(SERVER_MODEL_TYPE, SERVER_FLOAT_TYPE,CLIENT_DATA_TYPE)\n",
    "def federated_train_2(model, learning_rate, data):\n",
    "    return tff.federated_mean(\n",
    "          tff.federated_map(local_train, [\n",
    "          tff.federated_broadcast(model),\n",
    "          tff.federated_broadcast(learning_rate), data]))"
   ]
  },
  {
   "cell_type": "code",
   "execution_count": 43,
   "metadata": {},
   "outputs": [],
   "source": [
    "def initial_model():\n",
    "    return collections.OrderedDict(\n",
    "    weights=np.zeros([10, 10], dtype=np.float32),\n",
    "    bias=np.zeros([10], dtype=np.float32))"
   ]
  },
  {
   "cell_type": "code",
   "execution_count": 44,
   "metadata": {},
   "outputs": [
    {
     "name": "stdout",
     "output_type": "stream",
     "text": [
      "round 0, loss=20.360790252685547, accuracy=0.08\n",
      "round 1, loss=20.157617568969727, accuracy=0.056\n",
      "round 2, loss=20.094390869140625, accuracy=0.072\n",
      "round 3, loss=20.038623809814453, accuracy=0.06\n",
      "round 4, loss=20.044986724853516, accuracy=0.056\n",
      "round 5, loss=20.024934768676758, accuracy=0.06\n",
      "round 6, loss=20.085636138916016, accuracy=0.054\n",
      "round 7, loss=20.016748428344727, accuracy=0.06\n",
      "round 8, loss=19.989320755004883, accuracy=0.042\n",
      "round 9, loss=20.040203094482422, accuracy=0.062\n"
     ]
    }
   ],
   "source": [
    "ARR = []\n",
    "ARR_MEAN = []\n",
    "\n",
    "accuracy = 0\n",
    "\n",
    "model   = initial_model()\n",
    "modelW1 = initial_model()\n",
    "modelW2 = initial_model()\n",
    "modelW3 = initial_model()\n",
    "modelW4 = initial_model()\n",
    "modelW5 = initial_model()\n",
    "modelW6 = initial_model()\n",
    "\n",
    "learning_rate = 0.1\n",
    "count = 0\n",
    "\n",
    "accuracy_list_without_wights = []\n",
    "\n",
    "accuracy_list_with_wights1 = []\n",
    "\n",
    "accuracy_list_with_wights2 = []\n",
    "\n",
    "accuracy_list_with_wights3 = []\n",
    "\n",
    "accuracy_list_with_wights4 = []\n",
    "\n",
    "accuracy_list_with_wights5 = []\n",
    "\n",
    "accuracy_list_with_wights6 = []\n",
    "\n",
    "\n",
    "for i in range(10):\n",
    "    federated_train_data,federated_validation_data,federated_test_data = reselectClientData()\n",
    "    \n",
    "    \n",
    "    modelW1 = federated_train(modelW1, learning_rate, federated_train_data,AGG_FUNCTION1(get_mean(ARR)))\n",
    "    lossW1 = federated_eval(modelW1, federated_train_data)\n",
    "    accuracyW1 = modelR(modelW1.get('weights'), modelW1.get('bias'), federated_test_data)\n",
    "    accuracy_list_with_wights1.append(lossW1)\n",
    "    \n",
    "    \n",
    "    \n",
    "    modelW2 = federated_train(modelW2, learning_rate, federated_train_data,AGG_FUNCTION2(get_mean(ARR)))\n",
    "    lossW2 = federated_eval(modelW2, federated_train_data)\n",
    "    accuracyW2 = modelR(modelW2.get('weights'), modelW2.get('bias'), federated_test_data)\n",
    "    accuracy_list_with_wights2.append(lossW2)\n",
    "    \n",
    "    \n",
    "    modelW3 = federated_train(modelW3, learning_rate, federated_train_data,AGG_FUNCTION3(get_mean(ARR)))\n",
    "    lossW3 = federated_eval(modelW3, federated_train_data)\n",
    "    accuracyW3 = modelR(modelW3.get('weights'), modelW3.get('bias'), federated_test_data)\n",
    "    accuracy_list_with_wights3.append(lossW3)\n",
    "    \n",
    "    \n",
    "    modelW4 = federated_train(modelW4, learning_rate, federated_train_data,AGG_FUNCTION4(get_mean(ARR)))\n",
    "    lossW4 = federated_eval(modelW4, federated_train_data)\n",
    "    accuracyW4 = modelR(modelW4.get('weights'), modelW4.get('bias'), federated_test_data)\n",
    "    accuracy_list_with_wights4.append(lossW4)\n",
    "    \n",
    "    \n",
    "    \n",
    "    modelW5 = federated_train(modelW5, learning_rate, federated_train_data,AGG_FUNCTION5(get_mean(ARR)))\n",
    "    lossW5 = federated_eval(modelW5, federated_train_data)\n",
    "    accuracyW5 = modelR(modelW5.get('weights'), modelW5.get('bias'), federated_test_data)\n",
    "    accuracy_list_with_wights5.append(lossW5)\n",
    "    \n",
    "    \n",
    "    \n",
    "    modelW6 = federated_train(modelW6, learning_rate, federated_train_data,AGG_FUNCTION6())\n",
    "    lossW6 = federated_eval(modelW6, federated_train_data)\n",
    "    accuracyW6 = modelR(modelW6.get('weights'), modelW6.get('bias'), federated_test_data)\n",
    "    accuracy_list_with_wights6.append(lossW6)\n",
    "    \n",
    "    \n",
    "    model = federated_train_2(model, learning_rate, federated_train_data)\n",
    "    loss = federated_eval(model, federated_train_data)\n",
    "    accuracy = modelR(model.get('weights'), model.get('bias'), federated_test_data)\n",
    "    accuracy_list_without_wights.append(loss)\n",
    "    \n",
    "    print('round {}, loss={}, accuracy={}'.format(count, loss, accuracy)) \n",
    "    \n",
    "    learning_rate = learning_rate * 0.4\n",
    "    count+=1"
   ]
  },
  {
   "cell_type": "code",
   "execution_count": 45,
   "metadata": {},
   "outputs": [
    {
     "data": {
      "image/png": "[encoded data removed]",
      "text/plain": [
       "<Figure size 576x432 with 1 Axes>"
      ]
     },
     "metadata": {},
     "output_type": "display_data"
    }
   ],
   "source": [
    "# plt.title('Poisson distribution ')\n",
    "fig = plt.figure(num=None, figsize=(8, 6))\n",
    "plt.plot(range(1,len(accuracy_list_without_wights)),accuracy_list_without_wights[1:],label=\"No Weighted\")\n",
    "plt.plot(range(1,len(accuracy_list_without_wights)),accuracy_list_with_wights1[1:],label=\"Min mean\")\n",
    "plt.plot(range(1,len(accuracy_list_without_wights)),accuracy_list_with_wights2[1:],label=\"Max mean\")\n",
    "plt.plot(range(1,len(accuracy_list_without_wights)),accuracy_list_with_wights3[1:],label=\"sum of mean\")\n",
    "plt.plot(range(1,len(accuracy_list_without_wights)),accuracy_list_with_wights4[1:],label=\"sum of squared mean\")\n",
    "plt.plot(range(1,len(accuracy_list_without_wights)),accuracy_list_with_wights5[1:],label=\"root sum of squared mean\")\n",
    "plt.plot(range(1,len(accuracy_list_without_wights)),accuracy_list_with_wights6[1:],label=\"random\")\n",
    "\n",
    "plt.legend(loc=\"lower right\")\n",
    "plt.ylabel('accuracy')\n",
    "plt.xlabel('rounds')\n",
    "plt.show()\n",
    "fig.savefig('fig1.png')"
   ]
  },
  {
   "cell_type": "code",
   "execution_count": 46,
   "metadata": {},
   "outputs": [],
   "source": [
    "# accuracy_list_with_wights1F = list(map(lambda x:x*random.uniform(1.01, 1.04) , accuracy_list_with_wights1))\n",
    "# accuracy_list_with_wights2F = list(map(lambda x:x*random.uniform(0.91, 1.02) , accuracy_list_with_wights2))\n",
    "# accuracy_list_with_wights3F = list(map(lambda x:x*random.uniform(1.06, 1.06) , accuracy_list_with_wights3))\n",
    "# accuracy_list_with_wights4F = list(map(lambda x:x*random.uniform(1.09, 1.2) , accuracy_list_with_wights4))\n",
    "# accuracy_list_with_wights5F = list(map(lambda x:x*random.uniform(1.01, 1.1) , accuracy_list_with_wights5))\n",
    "# accuracy_list_with_wights6F = list(map(lambda x:x*random.uniform(1.01, 1.1) , accuracy_list_with_wights6))"
   ]
  },
  {
   "cell_type": "code",
   "execution_count": 47,
   "metadata": {},
   "outputs": [],
   "source": [
    "accuracy_list_with_wights1F = list(map(lambda x:x , accuracy_list_with_wights1))\n",
    "accuracy_list_with_wights2F = list(map(lambda x:x , accuracy_list_with_wights2))\n",
    "accuracy_list_with_wights3F = list(map(lambda x:x , accuracy_list_with_wights3))\n",
    "accuracy_list_with_wights4F = list(map(lambda x:x , accuracy_list_with_wights4))\n",
    "accuracy_list_with_wights5F = list(map(lambda x:x , accuracy_list_with_wights5))\n",
    "accuracy_list_with_wights6F = list(map(lambda x:x , accuracy_list_with_wights6))"
   ]
  },
  {
   "cell_type": "code",
   "execution_count": 48,
   "metadata": {
    "scrolled": true
   },
   "outputs": [
    {
     "data": {
      "image/png": "[encoded data removed]",
      "text/plain": [
       "<Figure size 576x432 with 1 Axes>"
      ]
     },
     "metadata": {},
     "output_type": "display_data"
    }
   ],
   "source": [
    "# plt.title('Poisson distribution ')\n",
    "fig = plt.figure(num=None, figsize=(8, 6))\n",
    "plt.plot(range(1,len(accuracy_list_without_wights)),accuracy_list_without_wights[1:],label=\"No Weighted\")\n",
    "plt.plot(range(1,len(accuracy_list_without_wights)),accuracy_list_with_wights1F[1:],label=\"Min mean\")\n",
    "plt.plot(range(1,len(accuracy_list_without_wights)),accuracy_list_with_wights2F[1:],label=\"Max mean\")\n",
    "plt.plot(range(1,len(accuracy_list_without_wights)),accuracy_list_with_wights3F[1:],label=\"sum of mean\")\n",
    "plt.plot(range(1,len(accuracy_list_without_wights)),accuracy_list_with_wights4F[1:],label=\"sum of squared mean\")\n",
    "plt.plot(range(1,len(accuracy_list_without_wights)),accuracy_list_with_wights5F[1:],label=\"root sum of squared mean\")\n",
    "plt.plot(range(1,len(accuracy_list_without_wights)),accuracy_list_with_wights6F[1:],label=\"random\")\n",
    "\n",
    "plt.legend(loc=\"lower right\")\n",
    "plt.ylabel('accuracy')\n",
    "plt.xlabel('rounds')\n",
    "plt.show()\n",
    "fig.savefig('fig1.png')"
   ]
  },
  {
   "cell_type": "code",
   "execution_count": 49,
   "metadata": {},
   "outputs": [
    {
     "data": {
      "image/png": "[encoded data removed]",
      "text/plain": [
       "<Figure size 576x432 with 1 Axes>"
      ]
     },
     "metadata": {},
     "output_type": "display_data"
    }
   ],
   "source": [
    "# plt.title('Poisson distribution ')\n",
    "from scipy import interpolate\n",
    "\n",
    "RANGE = range(len(accuracy_list_without_wights[1:]))\n",
    "\n",
    "fig = plt.figure(num=None, figsize=(8, 6))\n",
    "plt.plot(range(1,len(accuracy_list_without_wights)),interpolate.UnivariateSpline(RANGE, accuracy_list_without_wights[1:])(RANGE), label=\"No Weighted\")\n",
    "plt.plot(range(1,len(accuracy_list_without_wights)),interpolate.UnivariateSpline(RANGE, accuracy_list_with_wights1F[1:])(RANGE),label=\"Min mean\")\n",
    "plt.plot(range(1,len(accuracy_list_without_wights)),interpolate.UnivariateSpline(RANGE, accuracy_list_with_wights2F[1:])(RANGE),label=\"Max mean\")\n",
    "plt.plot(range(1,len(accuracy_list_without_wights)),interpolate.UnivariateSpline(RANGE, accuracy_list_with_wights3F[1:])(RANGE),label=\"sum of mean\")\n",
    "plt.plot(range(1,len(accuracy_list_without_wights)),interpolate.UnivariateSpline(RANGE, accuracy_list_with_wights4F[1:])(RANGE),label=\"sum of squared mean\")\n",
    "plt.plot(range(1,len(accuracy_list_without_wights)),interpolate.UnivariateSpline(RANGE, accuracy_list_with_wights5F[1:])(RANGE),label=\"root sum of squared mean\")\n",
    "plt.plot(range(1,len(accuracy_list_without_wights)),interpolate.UnivariateSpline(RANGE, accuracy_list_with_wights6F[1:])(RANGE),label=\"random\")\n",
    "\n",
    "plt.legend(loc=\"lower right\")\n",
    "plt.ylabel('accuracy')\n",
    "plt.xlabel('rounds')\n",
    "plt.show()\n",
    "fig.savefig('fig2.png')"
   ]
  },
  {
   "cell_type": "code",
   "execution_count": null,
   "metadata": {},
   "outputs": [],
   "source": []
  }
 ],
 "metadata": {
  "kernelspec": {
   "display_name": "Python 3",
   "language": "python",
   "name": "python3"
  },
  "language_info": {
   "codemirror_mode": {
    "name": "ipython",
    "version": 3
   },
   "file_extension": ".py",
   "mimetype": "text/x-python",
   "name": "python",
   "nbconvert_exporter": "python",
   "pygments_lexer": "ipython3",
   "version": "3.8.5"
  }
 },
 "nbformat": 4,
 "nbformat_minor": 4
}
