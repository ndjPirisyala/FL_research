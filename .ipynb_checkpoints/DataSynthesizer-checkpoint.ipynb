{
 "cells": [
  {
   "cell_type": "code",
   "execution_count": 22,
   "metadata": {},
   "outputs": [],
   "source": [
    "import numpy as np\n",
    "\n",
    "# Needed for plotting\n",
    "import matplotlib.colors\n",
    "import matplotlib.pyplot as plt\n",
    "from mpl_toolkits.mplot3d import Axes3D\n",
    "\n",
    "# Needed for generating classification, regression and clustering datasets\n",
    "import sklearn.datasets as dt\n",
    "\n",
    "# Needed for generating data from an existing dataset\n",
    "from sklearn.neighbors import KernelDensity\n",
    "from sklearn.model_selection import GridSearchCV"
   ]
  },
  {
   "cell_type": "code",
   "execution_count": 23,
   "metadata": {},
   "outputs": [],
   "source": [
    "# Define the seed so that results can be reproduced\n",
    "rand_state = 100\n",
    "\n",
    "# Define the color maps for plots\n",
    "color_map_discrete = matplotlib.colors.LinearSegmentedColormap.from_list(\"\", [\"red\",\"cyan\",\"magenta\",\"blue\"])"
   ]
  },
  {
   "cell_type": "code",
   "execution_count": 24,
   "metadata": {},
   "outputs": [
    {
     "name": "stdout",
     "output_type": "stream",
     "text": [
      "[[  8.65185407   7.80140626]\n",
      " [  7.56231881   7.33733557]\n",
      " [  8.46752053  -7.1395555 ]\n",
      " ...\n",
      " [-10.68337212   8.4976809 ]\n",
      " [  9.10474129   9.24020619]\n",
      " [  8.74364718  -8.33791937]]\n",
      "**********\n",
      "[2 2 1 1 1 1 1 2 0 1 2 2 2 1 0 0 0 0 1 1 2 2 0 1 1 2 0 0 2 0 0 1 1 0 2 1 0\n",
      " 0 1 1 2 1 0 0 2 0 2 1 2 2 0 1 0 1 2 0 0 0 0 2 1 0 2 2 0 0 2 0 2 0 0 2 0 2\n",
      " 1 0 1 0 1 1 1 1 2 0 2 2 1 1 0 2 2 1 0 2 0 0 2 0 2 2 2 1 0 2 2 2 2 1 0 2 1\n",
      " 2 2 0 1 1 2 0 1 2 0 1 0 2 0 1 0 0 0 2 1 1 0 2 2 2 1 1 2 2 2 2 0 2 1 0 1 2\n",
      " 2 1 2 1 2 0 1 0 2 0 0 1 1 1 1 0 1 2 1 2 2 2 1 1 0 2 1 2 2 0 0 0 1 2 0 1 0\n",
      " 2 1 2 1 1 2 2 0 2 0 1 2 2 0 0 0 1 2 2 2 1 2 2 2 0 0 0 1 2 1 2 1 0 1 0 0 2\n",
      " 2 2 2 1 0 2 0 2 2 0 2 1 1 1 0 0 1 0 1 1 2 0 2 1 1 0 2 2 2 1 1 1 2 2 1 1 0\n",
      " 2 1 0 1 0 1 1 0 2 1 1 0 0 1 0 2 0 2 0 1 0 1 0 1 0 2 1 2 1 2 2 1 2 0 0 0 0\n",
      " 1 1 0 1 2 2 1 1 0 0 2 0 2 0 2 1 2 2 0 2 2 2 0 2 2 2 2 2 1 1 2 0 0 2 0 2 0\n",
      " 0 1 0 1 0 2 1 0 1 0 1 1 0 1 2 2 2 0 0 0 2 2 0 2 0 2 2 0 0 2 2 1 2 1 2 0 0\n",
      " 0 1 2 0 0 0 2 2 1 0 2 1 0 1 0 2 2 0 0 2 1 0 1 1 1 0 2 1 2 1 0 1 2 1 2 0 0\n",
      " 1 2 2 2 2 0 2 2 2 2 1 1 0 2 2 1 2 1 2 0 1 0 1 0 2 1 2 0 1 0 2 1 0 2 1 2 0\n",
      " 1 2 2 2 1 0 1 2 1 1 0 0 2 0 0 0 2 1 2 0 1 1 1 0 1 0 0 2 0 2 0 2 0 0 2 1 0\n",
      " 2 1 1 0 1 0 1 1 1 1 1 0 1 0 1 1 1 2 2 2 2 2 1 1 0 1 0 1 0 0 1 1 1 1 2 0 0\n",
      " 1 1 0 2 2 2 0 2 1 1 0 0 1 0 0 0 0 1 2 0 1 1 2 2 2 0 1 0 2 2 1 2 1 1 1 1 0\n",
      " 0 0 2 0 1 2 1 0 1 0 2 1 1 0 1 2 1 0 0 2 0 2 0 1 2 0 1 2 2 0 0 2 0 0 0 1 1\n",
      " 1 1 0 0 0 1 1 1 2 2 1 1 2 0 1 0 2 1 1 2 2 2 0 2 0 2 1 1 0 1 0 0 2 2 2 0 0\n",
      " 1 0 2 0 0 1 2 2 0 1 2 2 2 0 0 0 2 2 2 1 0 2 0 0 2 0 1 2 0 1 2 1 2 1 2 1 2\n",
      " 1 0 2 2 2 2 0 1 0 0 1 2 2 2 2 1 1 1 1 1 2 0 1 0 1 0 1 0 2 0 1 2 0 2 1 0 0\n",
      " 1 1 1 2 2 2 1 1 1 2 0 2 2 0 1 0 1 2 2 0 0 0 0 0 2 2 1 1 1 2 2 2 1 0 2 0 0\n",
      " 1 1 0 0 0 2 2 1 1 2 0 0 0 0 1 1 2 2 2 1 1 1 1 0 2 2 2 2 0 0 2 2 1 1 0 2 1\n",
      " 2 2 0 2 1 2 1 0 0 1 2 0 0 0 1 1 0 2 2 1 1 2 1 0 0 2 0 2 2 2 1 0 0 2 0 2 1\n",
      " 1 0 0 1 1 2 0 1 2 0 1 0 1 0 0 1 0 2 2 0 1 0 1 2 0 2 2 1 1 2 0 1 1 2 1 0 2\n",
      " 2 0 0 2 2 2 0 1 0 0 2 1 1 1 2 1 1 2 1 1 2 1 1 0 0 1 2 0 2 1 1 2 1 2 1 0 2\n",
      " 1 0 1 1 1 2 0 2 1 0 1 1 2 1 0 1 1 0 2 1 0 0 0 2 0 0 1 1 2 1 0 2 2 1 2 0 1\n",
      " 2 0 1 0 0 0 1 1 2 1 0 1 0 2 0 1 1 1 0 2 1 1 0 2 0 0 1 0 1 2 1 0 2 2 2 0 0\n",
      " 2 1 1 2 1 1 2 1 2 0 0 1 0 2 0 0 2 2 0 0 1 0 1 0 0 1 1 0 2 2 1 0 0 0 0 0 2\n",
      " 1]\n"
     ]
    },
    {
     "data": {
      "image/png": "[encoded data removed]",
      "text/plain": [
       "<Figure size 432x288 with 1 Axes>"
      ]
     },
     "metadata": {
      "needs_background": "light"
     },
     "output_type": "display_data"
    }
   ],
   "source": [
    "x,y = dt.make_classification(n_samples=1000,\n",
    "                                 n_features=2,\n",
    "                                 n_repeated=0,\n",
    "                                 class_sep=8,\n",
    "                                 n_redundant=0,\n",
    "                                 n_classes=3,\n",
    "                                 n_clusters_per_class=1,\n",
    "                                 random_state=rand_state)\n",
    "\n",
    "print(x)\n",
    "print(\"**********\")\n",
    "print(y)\n",
    "\n",
    "my_scatter_plot = plt.scatter(x[:,0],\n",
    "                                  x[:,1],\n",
    "                                  c=y,\n",
    "                                  vmin=min(y),\n",
    "                                  vmax=max(y),\n",
    "                                  s=5,\n",
    "                                  cmap=color_map_discrete)\n",
    "\n",
    "plt.show()"
   ]
  },
  {
   "cell_type": "code",
   "execution_count": null,
   "metadata": {},
   "outputs": [],
   "source": []
  },
  {
   "cell_type": "code",
   "execution_count": null,
   "metadata": {},
   "outputs": [],
   "source": []
  },
  {
   "cell_type": "code",
   "execution_count": null,
   "metadata": {},
   "outputs": [],
   "source": []
  }
 ],
 "metadata": {
  "kernelspec": {
   "display_name": "Python 3",
   "language": "python",
   "name": "python3"
  },
  "language_info": {
   "codemirror_mode": {
    "name": "ipython",
    "version": 3
   },
   "file_extension": ".py",
   "mimetype": "text/x-python",
   "name": "python",
   "nbconvert_exporter": "python",
   "pygments_lexer": "ipython3",
   "version": "3.8.5"
  }
 },
 "nbformat": 4,
 "nbformat_minor": 4
}
